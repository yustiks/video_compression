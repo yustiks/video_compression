{
  "nbformat": 4,
  "nbformat_minor": 0,
  "metadata": {
    "colab": {
      "name": "jpeg_compression.ipynb",
      "provenance": [],
      "authorship_tag": "ABX9TyNomXTRXriSnbGRldXNu1gS",
      "include_colab_link": true
    },
    "kernelspec": {
      "name": "python3",
      "display_name": "Python 3"
    },
    "language_info": {
      "name": "python"
    }
  },
  "cells": [
    {
      "cell_type": "markdown",
      "metadata": {
        "id": "view-in-github",
        "colab_type": "text"
      },
      "source": [
        "<a href=\"https://colab.research.google.com/github/yustiks/video_compression/blob/main/jpeg_compression.ipynb\" target=\"_parent\"><img src=\"https://colab.research.google.com/assets/colab-badge.svg\" alt=\"Open In Colab\"/></a>"
      ]
    },
    {
      "cell_type": "code",
      "source": [
        "import numpy as np\n",
        "import matplotlib.pyplot as plt\n",
        "\n",
        "from skimage import data, img_as_float\n",
        "from skimage.metrics import structural_similarity as ssim\n",
        "from skimage.metrics import mean_squared_error\n",
        "from skimage.metrics import peak_signal_noise_ratio"
      ],
      "metadata": {
        "id": "Ltd7Oad4eFKV"
      },
      "execution_count": 24,
      "outputs": []
    },
    {
      "cell_type": "code",
      "execution_count": 21,
      "metadata": {
        "id": "VK9cCSv5cC-3"
      },
      "outputs": [],
      "source": [
        "from io import BytesIO\n",
        "from PIL import Image\n",
        "for i in range(1, 11):\n",
        "  IMAGE_FILE = '/content/drive/MyDrive/Deelvin_docs/image_compression/data_576_768_bmp/' + str(i) + '.bmp'\n",
        "  im1 = Image.open(IMAGE_FILE)\n",
        "\n",
        "  # here, we create an empty string buffer    \n",
        "  buffer = BytesIO()\n",
        "  im1.save(buffer, \"JPEG\", quality=60)\n",
        "\n",
        "  # ... do something else ...\n",
        "\n",
        "  # write the buffer to a file to make sure it worked\n",
        "  with open(\"./\" + str(i) + \".jpg\", \"wb\") as handle:\n",
        "    handle.write(buffer.getbuffer())"
      ]
    },
    {
      "cell_type": "code",
      "source": [
        "for i in range(1, 11):\n",
        "  im2 = Image.open('./'+str(i)+'.jpg')\n",
        "  img2 = img_as_float(im2)\n",
        "  IMAGE_FILE = '/content/drive/MyDrive/Deelvin_docs/image_compression/data_576_768_bmp/' + str(i) + '.bmp'\n",
        "  im1 = Image.open(IMAGE_FILE)\n",
        "  img1 = img_as_float(im1)\n",
        "  ssim_ = ssim(img1, img2, data_range=img2.max() - img2.min(), multichannel=True)\n",
        "  print(i)\n",
        "  print('SSIM=', ssim_)\n",
        "  PSNR = peak_signal_noise_ratio(img1, img2)\n",
        "  print('PSNR: ', round(PSNR, 2))"
      ],
      "metadata": {
        "colab": {
          "base_uri": "https://localhost:8080/"
        },
        "id": "iDq1wdHgd5DI",
        "outputId": "454121fd-f6d0-45c6-c7c9-dabaade54126"
      },
      "execution_count": 27,
      "outputs": [
        {
          "output_type": "stream",
          "name": "stdout",
          "text": [
            "1\n",
            "SSIM= 0.9692742173508382\n",
            "PSNR:  36.32\n",
            "2\n",
            "SSIM= 0.9715043195019195\n",
            "PSNR:  37.48\n",
            "3\n",
            "SSIM= 0.9696247865104741\n",
            "PSNR:  36.6\n",
            "4\n",
            "SSIM= 0.969168602627053\n",
            "PSNR:  36.6\n",
            "5\n",
            "SSIM= 0.9690971732442644\n",
            "PSNR:  36.32\n",
            "6\n",
            "SSIM= 0.9709251543241749\n",
            "PSNR:  36.6\n",
            "7\n",
            "SSIM= 0.9711941113492918\n",
            "PSNR:  36.36\n",
            "8\n",
            "SSIM= 0.9697623621583261\n",
            "PSNR:  36.15\n",
            "9\n",
            "SSIM= 0.9748757468929652\n",
            "PSNR:  38.4\n",
            "10\n",
            "SSIM= 0.9725488736937331\n",
            "PSNR:  37.14\n"
          ]
        }
      ]
    },
    {
      "cell_type": "code",
      "source": [
        "import os\n",
        "for i in range(1, 11):\n",
        "  im = Image.open('/content/drive/MyDrive/Deelvin_docs/image_compression/data_576_768_bmp/' + str(i) + '.bmp')\n",
        "  #print(f'File Size in Bytes is {file_stats.st_size}')\n",
        "  print(im.size)\n",
        "  print('N_compression = ', 8*os.stat('./'+str(i)+'.jpg').st_size/1327104)"
      ],
      "metadata": {
        "colab": {
          "base_uri": "https://localhost:8080/"
        },
        "id": "6hPH6A7Kgb_R",
        "outputId": "0858b627-d3d0-4f16-8d78-5cdd49230f53"
      },
      "execution_count": 31,
      "outputs": [
        {
          "output_type": "stream",
          "name": "stdout",
          "text": [
            "(768, 576)\n",
            "N_compression =  0.3122588734567901\n",
            "(768, 576)\n",
            "N_compression =  0.28200352044753085\n",
            "(768, 576)\n",
            "N_compression =  0.3076834972993827\n",
            "(768, 576)\n",
            "N_compression =  0.3075086805555556\n",
            "(768, 576)\n",
            "N_compression =  0.30461516203703703\n",
            "(768, 576)\n",
            "N_compression =  0.27662037037037035\n",
            "(768, 576)\n",
            "N_compression =  0.2740162037037037\n",
            "(768, 576)\n",
            "N_compression =  0.28976176697530864\n",
            "(768, 576)\n",
            "N_compression =  0.25206766010802467\n",
            "(768, 576)\n",
            "N_compression =  0.27630690586419754\n"
          ]
        }
      ]
    },
    {
      "cell_type": "code",
      "source": [
        "from google.colab import drive\n",
        "drive.mount('/content/drive')"
      ],
      "metadata": {
        "colab": {
          "base_uri": "https://localhost:8080/"
        },
        "id": "vYm5T4gxcG2b",
        "outputId": "743a6235-a9dd-400a-cc19-b91083616492"
      },
      "execution_count": 1,
      "outputs": [
        {
          "output_type": "stream",
          "name": "stdout",
          "text": [
            "Mounted at /content/drive\n"
          ]
        }
      ]
    },
    {
      "cell_type": "code",
      "source": [
        "im = Image.open('/content/drive/MyDrive/Deelvin_docs/image_compression/data_576_768_bmp/1.bmp')\n",
        "  "
      ],
      "metadata": {
        "id": "aX9DK64tcXJK"
      },
      "execution_count": null,
      "outputs": []
    }
  ]
}