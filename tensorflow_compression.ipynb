{
  "cells": [
    {
      "cell_type": "markdown",
      "metadata": {
        "id": "view-in-github",
        "colab_type": "text"
      },
      "source": [
        "<a href=\"https://colab.research.google.com/github/yustiks/video_compression/blob/main/tensorflow_compression.ipynb\" target=\"_parent\"><img src=\"https://colab.research.google.com/assets/colab-badge.svg\" alt=\"Open In Colab\"/></a>"
      ]
    },
    {
      "cell_type": "code",
      "execution_count": null,
      "metadata": {
        "colab": {
          "base_uri": "https://localhost:8080/"
        },
        "id": "cCc8V3l-zOHr",
        "outputId": "4d035e06-c82e-4838-e74a-0f02bcc7d87e"
      },
      "outputs": [
        {
          "output_type": "stream",
          "name": "stdout",
          "text": [
            "Collecting tensorflow-compression==2.7.0\n",
            "  Downloading tensorflow_compression-2.7.0-cp37-cp37m-manylinux2010_x86_64.whl (246 kB)\n",
            "\u001b[?25l\r\u001b[K     |█▎                              | 10 kB 23.0 MB/s eta 0:00:01\r\u001b[K     |██▋                             | 20 kB 29.2 MB/s eta 0:00:01\r\u001b[K     |████                            | 30 kB 25.0 MB/s eta 0:00:01\r\u001b[K     |█████▎                          | 40 kB 19.2 MB/s eta 0:00:01\r\u001b[K     |██████▋                         | 51 kB 15.2 MB/s eta 0:00:01\r\u001b[K     |████████                        | 61 kB 14.0 MB/s eta 0:00:01\r\u001b[K     |█████████▎                      | 71 kB 13.2 MB/s eta 0:00:01\r\u001b[K     |██████████▋                     | 81 kB 14.4 MB/s eta 0:00:01\r\u001b[K     |████████████                    | 92 kB 14.6 MB/s eta 0:00:01\r\u001b[K     |█████████████▎                  | 102 kB 12.7 MB/s eta 0:00:01\r\u001b[K     |██████████████▋                 | 112 kB 12.7 MB/s eta 0:00:01\r\u001b[K     |████████████████                | 122 kB 12.7 MB/s eta 0:00:01\r\u001b[K     |█████████████████▎              | 133 kB 12.7 MB/s eta 0:00:01\r\u001b[K     |██████████████████▋             | 143 kB 12.7 MB/s eta 0:00:01\r\u001b[K     |████████████████████            | 153 kB 12.7 MB/s eta 0:00:01\r\u001b[K     |█████████████████████▎          | 163 kB 12.7 MB/s eta 0:00:01\r\u001b[K     |██████████████████████▋         | 174 kB 12.7 MB/s eta 0:00:01\r\u001b[K     |████████████████████████        | 184 kB 12.7 MB/s eta 0:00:01\r\u001b[K     |█████████████████████████▎      | 194 kB 12.7 MB/s eta 0:00:01\r\u001b[K     |██████████████████████████▋     | 204 kB 12.7 MB/s eta 0:00:01\r\u001b[K     |████████████████████████████    | 215 kB 12.7 MB/s eta 0:00:01\r\u001b[K     |█████████████████████████████▎  | 225 kB 12.7 MB/s eta 0:00:01\r\u001b[K     |██████████████████████████████▋ | 235 kB 12.7 MB/s eta 0:00:01\r\u001b[K     |████████████████████████████████| 245 kB 12.7 MB/s eta 0:00:01\r\u001b[K     |████████████████████████████████| 246 kB 12.7 MB/s \n",
            "\u001b[?25hRequirement already satisfied: tensorflow-probability~=0.15.0 in /usr/local/lib/python3.7/dist-packages (from tensorflow-compression==2.7.0) (0.15.0)\n",
            "Requirement already satisfied: scipy~=1.4 in /usr/local/lib/python3.7/dist-packages (from tensorflow-compression==2.7.0) (1.4.1)\n",
            "Requirement already satisfied: tensorflow~=2.7.0 in /usr/local/lib/python3.7/dist-packages (from tensorflow-compression==2.7.0) (2.7.0)\n",
            "Requirement already satisfied: numpy>=1.13.3 in /usr/local/lib/python3.7/dist-packages (from scipy~=1.4->tensorflow-compression==2.7.0) (1.19.5)\n",
            "Requirement already satisfied: astunparse>=1.6.0 in /usr/local/lib/python3.7/dist-packages (from tensorflow~=2.7.0->tensorflow-compression==2.7.0) (1.6.3)\n",
            "Requirement already satisfied: tensorflow-estimator<2.8,~=2.7.0rc0 in /usr/local/lib/python3.7/dist-packages (from tensorflow~=2.7.0->tensorflow-compression==2.7.0) (2.7.0)\n",
            "Requirement already satisfied: grpcio<2.0,>=1.24.3 in /usr/local/lib/python3.7/dist-packages (from tensorflow~=2.7.0->tensorflow-compression==2.7.0) (1.43.0)\n",
            "Requirement already satisfied: tensorflow-io-gcs-filesystem>=0.21.0 in /usr/local/lib/python3.7/dist-packages (from tensorflow~=2.7.0->tensorflow-compression==2.7.0) (0.24.0)\n",
            "Requirement already satisfied: opt-einsum>=2.3.2 in /usr/local/lib/python3.7/dist-packages (from tensorflow~=2.7.0->tensorflow-compression==2.7.0) (3.3.0)\n",
            "Requirement already satisfied: gast<0.5.0,>=0.2.1 in /usr/local/lib/python3.7/dist-packages (from tensorflow~=2.7.0->tensorflow-compression==2.7.0) (0.4.0)\n",
            "Requirement already satisfied: h5py>=2.9.0 in /usr/local/lib/python3.7/dist-packages (from tensorflow~=2.7.0->tensorflow-compression==2.7.0) (3.1.0)\n",
            "Requirement already satisfied: six>=1.12.0 in /usr/local/lib/python3.7/dist-packages (from tensorflow~=2.7.0->tensorflow-compression==2.7.0) (1.15.0)\n",
            "Requirement already satisfied: typing-extensions>=3.6.6 in /usr/local/lib/python3.7/dist-packages (from tensorflow~=2.7.0->tensorflow-compression==2.7.0) (3.10.0.2)\n",
            "Requirement already satisfied: wheel<1.0,>=0.32.0 in /usr/local/lib/python3.7/dist-packages (from tensorflow~=2.7.0->tensorflow-compression==2.7.0) (0.37.1)\n",
            "Requirement already satisfied: absl-py>=0.4.0 in /usr/local/lib/python3.7/dist-packages (from tensorflow~=2.7.0->tensorflow-compression==2.7.0) (1.0.0)\n",
            "Requirement already satisfied: keras-preprocessing>=1.1.1 in /usr/local/lib/python3.7/dist-packages (from tensorflow~=2.7.0->tensorflow-compression==2.7.0) (1.1.2)\n",
            "Requirement already satisfied: tensorboard~=2.6 in /usr/local/lib/python3.7/dist-packages (from tensorflow~=2.7.0->tensorflow-compression==2.7.0) (2.7.0)\n",
            "Requirement already satisfied: protobuf>=3.9.2 in /usr/local/lib/python3.7/dist-packages (from tensorflow~=2.7.0->tensorflow-compression==2.7.0) (3.17.3)\n",
            "Requirement already satisfied: google-pasta>=0.1.1 in /usr/local/lib/python3.7/dist-packages (from tensorflow~=2.7.0->tensorflow-compression==2.7.0) (0.2.0)\n",
            "Requirement already satisfied: flatbuffers<3.0,>=1.12 in /usr/local/lib/python3.7/dist-packages (from tensorflow~=2.7.0->tensorflow-compression==2.7.0) (2.0)\n",
            "Requirement already satisfied: wrapt>=1.11.0 in /usr/local/lib/python3.7/dist-packages (from tensorflow~=2.7.0->tensorflow-compression==2.7.0) (1.13.3)\n",
            "Requirement already satisfied: keras<2.8,>=2.7.0rc0 in /usr/local/lib/python3.7/dist-packages (from tensorflow~=2.7.0->tensorflow-compression==2.7.0) (2.7.0)\n",
            "Requirement already satisfied: termcolor>=1.1.0 in /usr/local/lib/python3.7/dist-packages (from tensorflow~=2.7.0->tensorflow-compression==2.7.0) (1.1.0)\n",
            "Requirement already satisfied: libclang>=9.0.1 in /usr/local/lib/python3.7/dist-packages (from tensorflow~=2.7.0->tensorflow-compression==2.7.0) (13.0.0)\n",
            "Requirement already satisfied: cached-property in /usr/local/lib/python3.7/dist-packages (from h5py>=2.9.0->tensorflow~=2.7.0->tensorflow-compression==2.7.0) (1.5.2)\n",
            "Requirement already satisfied: werkzeug>=0.11.15 in /usr/local/lib/python3.7/dist-packages (from tensorboard~=2.6->tensorflow~=2.7.0->tensorflow-compression==2.7.0) (1.0.1)\n",
            "Requirement already satisfied: google-auth<3,>=1.6.3 in /usr/local/lib/python3.7/dist-packages (from tensorboard~=2.6->tensorflow~=2.7.0->tensorflow-compression==2.7.0) (1.35.0)\n",
            "Requirement already satisfied: setuptools>=41.0.0 in /usr/local/lib/python3.7/dist-packages (from tensorboard~=2.6->tensorflow~=2.7.0->tensorflow-compression==2.7.0) (57.4.0)\n",
            "Requirement already satisfied: tensorboard-plugin-wit>=1.6.0 in /usr/local/lib/python3.7/dist-packages (from tensorboard~=2.6->tensorflow~=2.7.0->tensorflow-compression==2.7.0) (1.8.1)\n",
            "Requirement already satisfied: google-auth-oauthlib<0.5,>=0.4.1 in /usr/local/lib/python3.7/dist-packages (from tensorboard~=2.6->tensorflow~=2.7.0->tensorflow-compression==2.7.0) (0.4.6)\n",
            "Requirement already satisfied: requests<3,>=2.21.0 in /usr/local/lib/python3.7/dist-packages (from tensorboard~=2.6->tensorflow~=2.7.0->tensorflow-compression==2.7.0) (2.23.0)\n",
            "Requirement already satisfied: tensorboard-data-server<0.7.0,>=0.6.0 in /usr/local/lib/python3.7/dist-packages (from tensorboard~=2.6->tensorflow~=2.7.0->tensorflow-compression==2.7.0) (0.6.1)\n",
            "Requirement already satisfied: markdown>=2.6.8 in /usr/local/lib/python3.7/dist-packages (from tensorboard~=2.6->tensorflow~=2.7.0->tensorflow-compression==2.7.0) (3.3.6)\n",
            "Requirement already satisfied: rsa<5,>=3.1.4 in /usr/local/lib/python3.7/dist-packages (from google-auth<3,>=1.6.3->tensorboard~=2.6->tensorflow~=2.7.0->tensorflow-compression==2.7.0) (4.8)\n",
            "Requirement already satisfied: cachetools<5.0,>=2.0.0 in /usr/local/lib/python3.7/dist-packages (from google-auth<3,>=1.6.3->tensorboard~=2.6->tensorflow~=2.7.0->tensorflow-compression==2.7.0) (4.2.4)\n",
            "Requirement already satisfied: pyasn1-modules>=0.2.1 in /usr/local/lib/python3.7/dist-packages (from google-auth<3,>=1.6.3->tensorboard~=2.6->tensorflow~=2.7.0->tensorflow-compression==2.7.0) (0.2.8)\n",
            "Requirement already satisfied: requests-oauthlib>=0.7.0 in /usr/local/lib/python3.7/dist-packages (from google-auth-oauthlib<0.5,>=0.4.1->tensorboard~=2.6->tensorflow~=2.7.0->tensorflow-compression==2.7.0) (1.3.1)\n",
            "Requirement already satisfied: importlib-metadata>=4.4 in /usr/local/lib/python3.7/dist-packages (from markdown>=2.6.8->tensorboard~=2.6->tensorflow~=2.7.0->tensorflow-compression==2.7.0) (4.10.1)\n",
            "Requirement already satisfied: zipp>=0.5 in /usr/local/lib/python3.7/dist-packages (from importlib-metadata>=4.4->markdown>=2.6.8->tensorboard~=2.6->tensorflow~=2.7.0->tensorflow-compression==2.7.0) (3.7.0)\n",
            "Requirement already satisfied: pyasn1<0.5.0,>=0.4.6 in /usr/local/lib/python3.7/dist-packages (from pyasn1-modules>=0.2.1->google-auth<3,>=1.6.3->tensorboard~=2.6->tensorflow~=2.7.0->tensorflow-compression==2.7.0) (0.4.8)\n",
            "Requirement already satisfied: certifi>=2017.4.17 in /usr/local/lib/python3.7/dist-packages (from requests<3,>=2.21.0->tensorboard~=2.6->tensorflow~=2.7.0->tensorflow-compression==2.7.0) (2021.10.8)\n",
            "Requirement already satisfied: urllib3!=1.25.0,!=1.25.1,<1.26,>=1.21.1 in /usr/local/lib/python3.7/dist-packages (from requests<3,>=2.21.0->tensorboard~=2.6->tensorflow~=2.7.0->tensorflow-compression==2.7.0) (1.24.3)\n",
            "Requirement already satisfied: chardet<4,>=3.0.2 in /usr/local/lib/python3.7/dist-packages (from requests<3,>=2.21.0->tensorboard~=2.6->tensorflow~=2.7.0->tensorflow-compression==2.7.0) (3.0.4)\n",
            "Requirement already satisfied: idna<3,>=2.5 in /usr/local/lib/python3.7/dist-packages (from requests<3,>=2.21.0->tensorboard~=2.6->tensorflow~=2.7.0->tensorflow-compression==2.7.0) (2.10)\n",
            "Requirement already satisfied: oauthlib>=3.0.0 in /usr/local/lib/python3.7/dist-packages (from requests-oauthlib>=0.7.0->google-auth-oauthlib<0.5,>=0.4.1->tensorboard~=2.6->tensorflow~=2.7.0->tensorflow-compression==2.7.0) (3.2.0)\n",
            "Requirement already satisfied: cloudpickle>=1.3 in /usr/local/lib/python3.7/dist-packages (from tensorflow-probability~=0.15.0->tensorflow-compression==2.7.0) (1.3.0)\n",
            "Requirement already satisfied: dm-tree in /usr/local/lib/python3.7/dist-packages (from tensorflow-probability~=0.15.0->tensorflow-compression==2.7.0) (0.1.6)\n",
            "Requirement already satisfied: decorator in /usr/local/lib/python3.7/dist-packages (from tensorflow-probability~=0.15.0->tensorflow-compression==2.7.0) (4.4.2)\n",
            "Installing collected packages: tensorflow-compression\n",
            "Successfully installed tensorflow-compression-2.7.0\n"
          ]
        }
      ],
      "source": [
        "!pip install tensorflow-compression==2.7.0"
      ]
    },
    {
      "cell_type": "code",
      "source": [
        "%cd /content/"
      ],
      "metadata": {
        "colab": {
          "base_uri": "https://localhost:8080/"
        },
        "id": "uREGAShFlkyY",
        "outputId": "1ce2412f-b3a6-44cb-d371-283fbbe71604"
      },
      "execution_count": null,
      "outputs": [
        {
          "output_type": "stream",
          "name": "stdout",
          "text": [
            "/content\n"
          ]
        }
      ]
    },
    {
      "cell_type": "code",
      "source": [
        "![[ -e /tfc ]] || git clone https://github.com/tensorflow/compression /tfc\n",
        "%cd /tfc/models\n",
        "import tfci  # Check if tfci.py is available."
      ],
      "metadata": {
        "colab": {
          "base_uri": "https://localhost:8080/"
        },
        "id": "Ut2PcPxqhpJX",
        "outputId": "2bff0cf1-2ec6-4656-f605-c56c8176c4e0"
      },
      "execution_count": null,
      "outputs": [
        {
          "output_type": "stream",
          "name": "stdout",
          "text": [
            "/tfc/models\n"
          ]
        }
      ]
    },
    {
      "cell_type": "code",
      "execution_count": null,
      "metadata": {
        "colab": {
          "base_uri": "https://localhost:8080/"
        },
        "id": "5nZPejahzVtY",
        "outputId": "41349f4a-0b79-4abf-dae0-3078cd513c53"
      },
      "outputs": [
        {
          "output_type": "stream",
          "name": "stdout",
          "text": [
            "Found GPU.\n"
          ]
        }
      ],
      "source": [
        "import tensorflow as tf\n",
        "\n",
        "if not tf.config.list_physical_devices('GPU'):\n",
        "  print('WARNING: No GPU found. Might be slow!')\n",
        "else:\n",
        "  print('Found GPU.')"
      ]
    },
    {
      "cell_type": "code",
      "execution_count": 26,
      "metadata": {
        "colab": {
          "base_uri": "https://localhost:8080/"
        },
        "id": "4lVdltRztBW0",
        "outputId": "c79da317-ce10-431d-e5bc-a52e99d11a66"
      },
      "outputs": [
        {
          "output_type": "stream",
          "name": "stdout",
          "text": [
            "The following models are available:\n",
            "\n",
            "* Models published in:\n",
            "  F. Mentzer, G. Toderici, M. Tschannen, E. Agustsson:\n",
            "  \"High-Fidelity Generative Image Compression\"\n",
            "  Adv. in Neural Information Processing Systems 33 (NeurIPS 2020)\n",
            "\n",
            "  hific-lo\n",
            "  hific-mi\n",
            "  hific-hi\n",
            "\n",
            "  These are the GAN-based models that were used for the paper and the demo\n",
            "  website (https://hific.github.io/). The target bitrates of these models are\n",
            "  0.14 bpp for \"lo\", 0.3 bpp for \"mi\", and 0.45 bpp for \"hi\".\n",
            "\n",
            "* Models published in:\n",
            "  D. Minnen, S. Singh:\n",
            "  \"Channel-wise Autoregressive Entropy Models for Learned Image Compression\"\n",
            "  Int. Conf. on Image Processing (ICIP 2020)\n",
            "\n",
            "  ms2020-cc10-mse-[1-10]\n",
            "  ms2020-cc8-msssim-[1-9]\n",
            "\n",
            "  These are channel-wise autoregressive models optimized for either MSE or\n",
            "  MS-SSIM. The MSE models have 10 splits along the channel dimension so a\n",
            "  latent tensor with 320 channels is split into 10 blocks with 32 channels\n",
            "  each. The MS-SSIM models have eight splits with 40 channels each.\n",
            "\n",
            "  All of the models include latent residual prediction (LRP) and were optimized\n",
            "  for 5,000,000 steps (MSE) or 4,000,000 steps (MS-SSIM) using Adam. The number\n",
            "  at the end of the name (1-10 or 1-9) indicates the quality level where larger\n",
            "  numbers imply higher quality and higher bit rates.\n",
            "\n",
            "  Although not used in the paper, we've been referring to this model as\n",
            "  \"CHARM\" for \"CHannel-wise AutoRegressive Model\".\n",
            "\n",
            "  Note: this model does not use the integer modification described below, so it\n",
            "  may be necessary to disable the GPU in order to reliably encode and decode.\n",
            "  This can be done by setting the environment variable `CUDA_VISIBLE_DEVICES`\n",
            "  to the empty string, e.g., using the command line:\n",
            "  CUDA_VISIBLE_DEVICES='' python tfci.py ...\n",
            "\n",
            "* Models published in:\n",
            "  D. Minnen, J. Ballé, G.D. Toderici:\n",
            "  \"Joint Autoregressive and Hierarchical Priors for Learned Image Compression\"\n",
            "  Adv. in Neural Information Processing Systems 31 (NeurIPS 2018)\n",
            "\n",
            "  mbt2018-mean-mse-[1-8]\n",
            "  mbt2018-mean-msssim-[1-8]\n",
            "\n",
            "  These are hyperprior models with non zero-mean Gaussian conditionals (without\n",
            "  autoregression), optimized for MSE (mean squared error) and MS-SSIM\n",
            "  (multiscale SSIM), respectively. The number 1-8 at the end indicates the\n",
            "  quality level (1: lowest, 8: highest).\n",
            "\n",
            "  While generalizing the hyperprior models to non-zero mean distributions\n",
            "  translates into some compression gains, the gains are not as high as for a\n",
            "  combined autoregressive and hierarchical prior. However, the runtime for\n",
            "  autoregressive priors is generally quite high.\n",
            "\n",
            "* Models published in:\n",
            "  J. Ballé, D. Minnen, S. Singh, S.J. Hwang, N. Johnston:\n",
            "  \"Variational Image Compression with a Scale Hyperprior\"\n",
            "  Int. Conf. on Learning Representations (ICLR), 2018\n",
            "\n",
            "  bmshj2018-factorized-mse-[1-8]\n",
            "  bmshj2018-factorized-msssim-[1-8]\n",
            "  bmshj2018-hyperprior-mse-[1-8]\n",
            "  bmshj2018-hyperprior-msssim-[1-8]\n",
            "\n",
            "  These are the factorized prior and hyperprior models optimized for MSE (mean\n",
            "  squared error) and MS-SSIM (multiscale SSIM), respectively. The number 1-8 at\n",
            "  the end indicates the quality level (1: lowest, 8: highest).\n",
            "\n",
            "  These models demonstrate the bit rate savings achieved by a hierarchical vs.\n",
            "  a factorized prior (entropy model).\n",
            "\n",
            "* Models published in:\n",
            "  J. Ballé:\n",
            "  \"Efficient Nonlinear Transforms for Lossy Image Compression\"\n",
            "  Picture Coding Symposium (PCS), 2018\n",
            "\n",
            "  b2018-leaky_relu-128-[1-4]\n",
            "  b2018-leaky_relu-192-[1-4]\n",
            "  b2018-gdn-128-[1-4]\n",
            "  b2018-gdn-192-[1-4]\n",
            "\n",
            "  These are nonlinear transform coders with factorized priors (entropy models)\n",
            "  optimized for MSE (mean squared error), with either leaky ReLU and GDN\n",
            "  activation functions, and 128 or 192 filters per layer. The number 1-4 at\n",
            "  the end indicates the quality level (1: lowest, 4: highest).\n",
            "\n",
            "  These models demonstrate the higher representational efficiency of GDN vs.\n",
            "  scalar activation functions such as leaky ReLU.\n",
            "\n",
            "Note: all the models using hierarchical/hyperpriors published above include a\n",
            "modification from:\n",
            "J. Ballé, N. Johnston, D. Minnen:\n",
            "\"Integer Networks for Data Compression with Latent-Variable Models\"\n",
            "Int. Conf. on Learning Representations (ICLR), 2019\n",
            "\n",
            "The conditional priors are modified to use integer arithmetic, in order to\n",
            "ensure consistent results across different hardware platforms. Other than this,\n",
            "the models are reproductions of the original models used in the publication.\n",
            "Therefore, performance may differ slightly.\n",
            "\n"
          ]
        }
      ],
      "source": [
        "!python tfci.py models"
      ]
    },
    {
      "cell_type": "code",
      "execution_count": null,
      "metadata": {
        "colab": {
          "base_uri": "https://localhost:8080/"
        },
        "id": "0MDLOzeut5tX",
        "outputId": "714d13c9-b2fa-4acc-d597-2a1f35f8fb87"
      },
      "outputs": [
        {
          "output_type": "stream",
          "name": "stdout",
          "text": [
            "bls2017.py  bmshj2018.py  hific  ms2020.py  __pycache__  tfci.py  toy_sources\n"
          ]
        }
      ],
      "source": [
        "!ls"
      ]
    },
    {
      "cell_type": "code",
      "execution_count": null,
      "metadata": {
        "colab": {
          "base_uri": "https://localhost:8080/",
          "height": 37
        },
        "id": "EmWnYLjpuucl",
        "outputId": "72db40eb-0e4c-4374-8250-44388fd4e13f"
      },
      "outputs": [
        {
          "output_type": "execute_result",
          "data": {
            "application/vnd.google.colaboratory.intrinsic+json": {
              "type": "string"
            },
            "text/plain": [
              "'/tfc/models'"
            ]
          },
          "metadata": {},
          "execution_count": 6
        }
      ],
      "source": [
        "import os\n",
        "cwd = os.getcwd()\n",
        "cwd"
      ]
    },
    {
      "cell_type": "code",
      "execution_count": null,
      "metadata": {
        "id": "L3PSeCwLxAgk"
      },
      "outputs": [],
      "source": [
        "import math\n",
        "\n",
        "from torch import Tensor\n",
        "\n",
        "import torch.nn.functional as F\n",
        "\n",
        "\n",
        "\n",
        "def psnr(x: Tensor, x_hat: Tensor) -> float:\n",
        "    return -10 * math.log10(F.mse_loss(x, x_hat).item())\n"
      ]
    },
    {
      "cell_type": "code",
      "execution_count": null,
      "metadata": {
        "colab": {
          "base_uri": "https://localhost:8080/"
        },
        "id": "xNgL1xOBxqH0",
        "outputId": "439066ef-16e5-4548-8c84-8f452002c1ba"
      },
      "outputs": [
        {
          "name": "stdout",
          "output_type": "stream",
          "text": [
            "Requirement already satisfied: scikit-image in /usr/local/lib/python3.7/dist-packages (0.19.1)\n",
            "Requirement already satisfied: numpy>=1.17.0 in /usr/local/lib/python3.7/dist-packages (from scikit-image) (1.19.5)\n",
            "Requirement already satisfied: scipy>=1.4.1 in /usr/local/lib/python3.7/dist-packages (from scikit-image) (1.4.1)\n",
            "Requirement already satisfied: networkx>=2.2 in /usr/local/lib/python3.7/dist-packages (from scikit-image) (2.6.3)\n",
            "Requirement already satisfied: pillow!=7.1.0,!=7.1.1,!=8.3.0,>=6.1.0 in /usr/local/lib/python3.7/dist-packages (from scikit-image) (7.1.2)\n",
            "Requirement already satisfied: PyWavelets>=1.1.1 in /usr/local/lib/python3.7/dist-packages (from scikit-image) (1.2.0)\n",
            "Requirement already satisfied: imageio>=2.4.1 in /usr/local/lib/python3.7/dist-packages (from scikit-image) (2.4.1)\n",
            "Requirement already satisfied: tifffile>=2019.7.26 in /usr/local/lib/python3.7/dist-packages (from scikit-image) (2021.11.2)\n",
            "Requirement already satisfied: packaging>=20.0 in /usr/local/lib/python3.7/dist-packages (from scikit-image) (21.3)\n",
            "Requirement already satisfied: pyparsing!=3.0.5,>=2.0.2 in /usr/local/lib/python3.7/dist-packages (from packaging>=20.0->scikit-image) (3.0.7)\n",
            "\u001b[33mWARNING: Running pip as the 'root' user can result in broken permissions and conflicting behaviour with the system package manager. It is recommended to use a virtual environment instead: https://pip.pypa.io/warnings/venv\u001b[0m\u001b[33m\n",
            "\u001b[0m"
          ]
        }
      ],
      "source": [
        "!python -m pip install -U scikit-image"
      ]
    },
    {
      "cell_type": "code",
      "execution_count": null,
      "metadata": {
        "id": "r-sM_jEczWzS",
        "colab": {
          "base_uri": "https://localhost:8080/"
        },
        "outputId": "a6b6c01e-94aa-4543-a58e-eb846f668d96"
      },
      "outputs": [
        {
          "output_type": "stream",
          "name": "stdout",
          "text": [
            "bls2017.py  bmshj2018.py  hific  ms2020.py  __pycache__  tfci.py  toy_sources\n"
          ]
        }
      ],
      "source": [
        "!ls"
      ]
    },
    {
      "cell_type": "markdown",
      "metadata": {
        "id": "MjMmf0YP2Vg5"
      },
      "source": [
        "Code to run for 10 images:"
      ]
    },
    {
      "cell_type": "code",
      "execution_count": 29,
      "metadata": {
        "colab": {
          "base_uri": "https://localhost:8080/"
        },
        "id": "6L80di4u2S7B",
        "outputId": "a7f838bc-5f5f-478d-bf23-0b08b708b9eb"
      },
      "outputs": [
        {
          "output_type": "stream",
          "name": "stdout",
          "text": [
            "2022-02-11 08:24:09.174616: W tensorflow/core/common_runtime/gpu/gpu_bfc_allocator.cc:39] Overriding allow_growth setting because the TF_FORCE_GPU_ALLOW_GROWTH environment variable is set. Original config value was 0.\n",
            "INFO:tensorflow:Saver not created because there are no variables in the graph to restore\n",
            "I0211 08:24:09.345354 140052411385728 saver.py:1621] Saver not created because there are no variables in the graph to restore\n",
            "INFO:tensorflow:Saver not created because there are no variables in the graph to restore\n",
            "I0211 08:24:20.871024 140630895200128 saver.py:1621] Saver not created because there are no variables in the graph to restore\n",
            "2022-02-11 08:24:21.588493: W tensorflow/core/common_runtime/gpu/gpu_bfc_allocator.cc:39] Overriding allow_growth setting because the TF_FORCE_GPU_ALLOW_GROWTH environment variable is set. Original config value was 0.\n",
            "2022-02-11 08:24:29.201048: W tensorflow/core/common_runtime/gpu/gpu_bfc_allocator.cc:39] Overriding allow_growth setting because the TF_FORCE_GPU_ALLOW_GROWTH environment variable is set. Original config value was 0.\n",
            "INFO:tensorflow:Saver not created because there are no variables in the graph to restore\n",
            "I0211 08:24:29.351356 139978771003264 saver.py:1621] Saver not created because there are no variables in the graph to restore\n",
            "INFO:tensorflow:Saver not created because there are no variables in the graph to restore\n",
            "I0211 08:24:36.259411 139845945612160 saver.py:1621] Saver not created because there are no variables in the graph to restore\n",
            "2022-02-11 08:24:36.953822: W tensorflow/core/common_runtime/gpu/gpu_bfc_allocator.cc:39] Overriding allow_growth setting because the TF_FORCE_GPU_ALLOW_GROWTH environment variable is set. Original config value was 0.\n",
            "2022-02-11 08:24:44.397290: W tensorflow/core/common_runtime/gpu/gpu_bfc_allocator.cc:39] Overriding allow_growth setting because the TF_FORCE_GPU_ALLOW_GROWTH environment variable is set. Original config value was 0.\n",
            "INFO:tensorflow:Saver not created because there are no variables in the graph to restore\n",
            "I0211 08:24:44.554969 140450323134336 saver.py:1621] Saver not created because there are no variables in the graph to restore\n",
            "INFO:tensorflow:Saver not created because there are no variables in the graph to restore\n",
            "I0211 08:24:51.545756 139973629396864 saver.py:1621] Saver not created because there are no variables in the graph to restore\n",
            "2022-02-11 08:24:52.245860: W tensorflow/core/common_runtime/gpu/gpu_bfc_allocator.cc:39] Overriding allow_growth setting because the TF_FORCE_GPU_ALLOW_GROWTH environment variable is set. Original config value was 0.\n",
            "2022-02-11 08:24:59.647040: W tensorflow/core/common_runtime/gpu/gpu_bfc_allocator.cc:39] Overriding allow_growth setting because the TF_FORCE_GPU_ALLOW_GROWTH environment variable is set. Original config value was 0.\n",
            "INFO:tensorflow:Saver not created because there are no variables in the graph to restore\n",
            "I0211 08:24:59.807935 140698276263808 saver.py:1621] Saver not created because there are no variables in the graph to restore\n",
            "INFO:tensorflow:Saver not created because there are no variables in the graph to restore\n",
            "I0211 08:25:06.637104 140454893406080 saver.py:1621] Saver not created because there are no variables in the graph to restore\n",
            "2022-02-11 08:25:07.360042: W tensorflow/core/common_runtime/gpu/gpu_bfc_allocator.cc:39] Overriding allow_growth setting because the TF_FORCE_GPU_ALLOW_GROWTH environment variable is set. Original config value was 0.\n",
            "2022-02-11 08:25:14.717397: W tensorflow/core/common_runtime/gpu/gpu_bfc_allocator.cc:39] Overriding allow_growth setting because the TF_FORCE_GPU_ALLOW_GROWTH environment variable is set. Original config value was 0.\n",
            "INFO:tensorflow:Saver not created because there are no variables in the graph to restore\n",
            "I0211 08:25:14.872170 139807352215424 saver.py:1621] Saver not created because there are no variables in the graph to restore\n",
            "INFO:tensorflow:Saver not created because there are no variables in the graph to restore\n",
            "I0211 08:25:21.745540 140695447648128 saver.py:1621] Saver not created because there are no variables in the graph to restore\n",
            "2022-02-11 08:25:22.436092: W tensorflow/core/common_runtime/gpu/gpu_bfc_allocator.cc:39] Overriding allow_growth setting because the TF_FORCE_GPU_ALLOW_GROWTH environment variable is set. Original config value was 0.\n",
            "2022-02-11 08:25:30.273845: W tensorflow/core/common_runtime/gpu/gpu_bfc_allocator.cc:39] Overriding allow_growth setting because the TF_FORCE_GPU_ALLOW_GROWTH environment variable is set. Original config value was 0.\n",
            "INFO:tensorflow:Saver not created because there are no variables in the graph to restore\n",
            "I0211 08:25:30.426012 140408167012224 saver.py:1621] Saver not created because there are no variables in the graph to restore\n",
            "INFO:tensorflow:Saver not created because there are no variables in the graph to restore\n",
            "I0211 08:25:37.283293 140098738640768 saver.py:1621] Saver not created because there are no variables in the graph to restore\n",
            "2022-02-11 08:25:37.985338: W tensorflow/core/common_runtime/gpu/gpu_bfc_allocator.cc:39] Overriding allow_growth setting because the TF_FORCE_GPU_ALLOW_GROWTH environment variable is set. Original config value was 0.\n",
            "2022-02-11 08:25:45.296047: W tensorflow/core/common_runtime/gpu/gpu_bfc_allocator.cc:39] Overriding allow_growth setting because the TF_FORCE_GPU_ALLOW_GROWTH environment variable is set. Original config value was 0.\n",
            "INFO:tensorflow:Saver not created because there are no variables in the graph to restore\n",
            "I0211 08:25:45.458292 139966853568384 saver.py:1621] Saver not created because there are no variables in the graph to restore\n",
            "INFO:tensorflow:Saver not created because there are no variables in the graph to restore\n",
            "I0211 08:25:52.304021 139973161228160 saver.py:1621] Saver not created because there are no variables in the graph to restore\n",
            "2022-02-11 08:25:53.018227: W tensorflow/core/common_runtime/gpu/gpu_bfc_allocator.cc:39] Overriding allow_growth setting because the TF_FORCE_GPU_ALLOW_GROWTH environment variable is set. Original config value was 0.\n",
            "2022-02-11 08:26:00.390016: W tensorflow/core/common_runtime/gpu/gpu_bfc_allocator.cc:39] Overriding allow_growth setting because the TF_FORCE_GPU_ALLOW_GROWTH environment variable is set. Original config value was 0.\n",
            "INFO:tensorflow:Saver not created because there are no variables in the graph to restore\n",
            "I0211 08:26:00.550483 139715278735232 saver.py:1621] Saver not created because there are no variables in the graph to restore\n",
            "INFO:tensorflow:Saver not created because there are no variables in the graph to restore\n",
            "I0211 08:26:07.497393 140248835762048 saver.py:1621] Saver not created because there are no variables in the graph to restore\n",
            "2022-02-11 08:26:08.194026: W tensorflow/core/common_runtime/gpu/gpu_bfc_allocator.cc:39] Overriding allow_growth setting because the TF_FORCE_GPU_ALLOW_GROWTH environment variable is set. Original config value was 0.\n",
            "2022-02-11 08:26:15.537061: W tensorflow/core/common_runtime/gpu/gpu_bfc_allocator.cc:39] Overriding allow_growth setting because the TF_FORCE_GPU_ALLOW_GROWTH environment variable is set. Original config value was 0.\n",
            "INFO:tensorflow:Saver not created because there are no variables in the graph to restore\n",
            "I0211 08:26:15.687587 139749942732672 saver.py:1621] Saver not created because there are no variables in the graph to restore\n",
            "INFO:tensorflow:Saver not created because there are no variables in the graph to restore\n",
            "I0211 08:26:22.637063 140664907265920 saver.py:1621] Saver not created because there are no variables in the graph to restore\n",
            "2022-02-11 08:26:23.322889: W tensorflow/core/common_runtime/gpu/gpu_bfc_allocator.cc:39] Overriding allow_growth setting because the TF_FORCE_GPU_ALLOW_GROWTH environment variable is set. Original config value was 0.\n",
            "2022-02-11 08:26:30.689122: W tensorflow/core/common_runtime/gpu/gpu_bfc_allocator.cc:39] Overriding allow_growth setting because the TF_FORCE_GPU_ALLOW_GROWTH environment variable is set. Original config value was 0.\n",
            "INFO:tensorflow:Saver not created because there are no variables in the graph to restore\n",
            "I0211 08:26:30.845001 140236685203328 saver.py:1621] Saver not created because there are no variables in the graph to restore\n",
            "INFO:tensorflow:Saver not created because there are no variables in the graph to restore\n",
            "I0211 08:26:37.747250 140230174738304 saver.py:1621] Saver not created because there are no variables in the graph to restore\n",
            "2022-02-11 08:26:38.429607: W tensorflow/core/common_runtime/gpu/gpu_bfc_allocator.cc:39] Overriding allow_growth setting because the TF_FORCE_GPU_ALLOW_GROWTH environment variable is set. Original config value was 0.\n"
          ]
        }
      ],
      "source": [
        "!python tfci.py compress bmshj2018-factorized-msssim-1 /content/drive/MyDrive/Deelvin_docs/image_compression/bmshj2018-factorized-msssim-1/1.png\n",
        "!python tfci.py decompress /content/drive/MyDrive/Deelvin_docs/image_compression/bmshj2018-factorized-msssim-1/1.png.tfci\n",
        "!python tfci.py compress bmshj2018-factorized-msssim-1 /content/drive/MyDrive/Deelvin_docs/image_compression/bmshj2018-factorized-msssim-1/2.png\n",
        "!python tfci.py decompress /content/drive/MyDrive/Deelvin_docs/image_compression/bmshj2018-factorized-msssim-1/2.png.tfci\n",
        "!python tfci.py compress bmshj2018-factorized-msssim-1 /content/drive/MyDrive/Deelvin_docs/image_compression/bmshj2018-factorized-msssim-1/3.png\n",
        "!python tfci.py decompress /content/drive/MyDrive/Deelvin_docs/image_compression/bmshj2018-factorized-msssim-1/3.png.tfci\n",
        "!python tfci.py compress bmshj2018-factorized-msssim-1 /content/drive/MyDrive/Deelvin_docs/image_compression/bmshj2018-factorized-msssim-1/4.png\n",
        "!python tfci.py decompress /content/drive/MyDrive/Deelvin_docs/image_compression/bmshj2018-factorized-msssim-1/4.png.tfci\n",
        "!python tfci.py compress bmshj2018-factorized-msssim-1 /content/drive/MyDrive/Deelvin_docs/image_compression/bmshj2018-factorized-msssim-1/5.png\n",
        "!python tfci.py decompress /content/drive/MyDrive/Deelvin_docs/image_compression/bmshj2018-factorized-msssim-1/5.png.tfci\n",
        "!python tfci.py compress bmshj2018-factorized-msssim-1 /content/drive/MyDrive/Deelvin_docs/image_compression/bmshj2018-factorized-msssim-1/6.png\n",
        "!python tfci.py decompress /content/drive/MyDrive/Deelvin_docs/image_compression/bmshj2018-factorized-msssim-1/6.png.tfci\n",
        "!python tfci.py compress bmshj2018-factorized-msssim-1 /content/drive/MyDrive/Deelvin_docs/image_compression/bmshj2018-factorized-msssim-1/7.png\n",
        "!python tfci.py decompress /content/drive/MyDrive/Deelvin_docs/image_compression/bmshj2018-factorized-msssim-1/7.png.tfci\n",
        "!python tfci.py compress bmshj2018-factorized-msssim-1 /content/drive/MyDrive/Deelvin_docs/image_compression/bmshj2018-factorized-msssim-1/8.png\n",
        "!python tfci.py decompress /content/drive/MyDrive/Deelvin_docs/image_compression/bmshj2018-factorized-msssim-1/8.png.tfci\n",
        "!python tfci.py compress bmshj2018-factorized-msssim-1 /content/drive/MyDrive/Deelvin_docs/image_compression/bmshj2018-factorized-msssim-1/9.png\n",
        "!python tfci.py decompress /content/drive/MyDrive/Deelvin_docs/image_compression/bmshj2018-factorized-msssim-1/9.png.tfci\n",
        "!python tfci.py compress bmshj2018-factorized-msssim-1 /content/drive/MyDrive/Deelvin_docs/image_compression/bmshj2018-factorized-msssim-1/10.png\n",
        "!python tfci.py decompress /content/drive/MyDrive/Deelvin_docs/image_compression/bmshj2018-factorized-msssim-1/10.png.tfci"
      ]
    },
    {
      "cell_type": "markdown",
      "source": [
        "Calculate file of compressed data divided to initial file size (1327104)"
      ],
      "metadata": {
        "id": "0MrCm_MCMfjZ"
      }
    },
    {
      "cell_type": "code",
      "source": [
        "for i in range(1, 11):\n",
        "  print('file_name:', str(i), ': ', 8*os.stat('/content/drive/MyDrive/Deelvin_docs/image_compression/mbt2018-mean-msssim-1/' + str(i) + '.png.tfci').st_size/1327104)"
      ],
      "metadata": {
        "id": "IzmDENtY7Hkz",
        "outputId": "492e15c4-2d2e-43cb-8ab4-cdb4fc843e4e",
        "colab": {
          "base_uri": "https://localhost:8080/"
        }
      },
      "execution_count": 44,
      "outputs": [
        {
          "output_type": "stream",
          "name": "stdout",
          "text": [
            "file_name: 1 :  0.02751856674382716\n",
            "file_name: 2 :  0.02529417438271605\n",
            "file_name: 3 :  0.02750048225308642\n",
            "file_name: 4 :  0.028507185570987654\n",
            "file_name: 5 :  0.02678313078703704\n",
            "file_name: 6 :  0.024456259645061727\n",
            "file_name: 7 :  0.024215133101851853\n",
            "file_name: 8 :  0.02572820216049383\n",
            "file_name: 9 :  0.02281057098765432\n",
            "file_name: 10 :  0.023841386959876542\n"
          ]
        }
      ]
    },
    {
      "cell_type": "markdown",
      "source": [
        "Calculate N_compression (png, bmp)"
      ],
      "metadata": {
        "id": "RVub--VrMVQc"
      }
    },
    {
      "cell_type": "code",
      "source": [
        "for i in range(1, 11):\n",
        "  print('file_name:', str(i), ': ', os.stat('/content/drive/MyDrive/Deelvin_docs/image_compression/data_576_768_png/' + str(i) + '.png').st_size/os.stat('/content/drive/MyDrive/Deelvin_docs/image_compression/data_576_768_bmp/' + str(i) + '.bmp').st_size)"
      ],
      "metadata": {
        "id": "lwBAMSIJ_C62",
        "outputId": "05d5cfd7-9b35-4f10-9802-20ef2f88f16a",
        "colab": {
          "base_uri": "https://localhost:8080/"
        }
      },
      "execution_count": 45,
      "outputs": [
        {
          "output_type": "stream",
          "name": "stdout",
          "text": [
            "file_name: 1 :  0.33896114855955356\n",
            "file_name: 2 :  0.32206790751364944\n",
            "file_name: 3 :  0.3345464518919375\n",
            "file_name: 4 :  0.3343166375066119\n",
            "file_name: 5 :  0.32831961228429474\n",
            "file_name: 6 :  0.30226167494751943\n",
            "file_name: 7 :  0.29293949929096613\n",
            "file_name: 8 :  0.3557360917087491\n",
            "file_name: 9 :  0.28853610497016935\n",
            "file_name: 10 :  0.30976869370489424\n"
          ]
        }
      ]
    },
    {
      "cell_type": "code",
      "execution_count": null,
      "metadata": {
        "colab": {
          "base_uri": "https://localhost:8080/"
        },
        "id": "wXHcmFG0xIq4",
        "outputId": "b6315962-75e1-4779-ad5b-97951167d66f"
      },
      "outputs": [
        {
          "name": "stderr",
          "output_type": "stream",
          "text": [
            "/usr/local/lib/python3.7/dist-packages/ipykernel_launcher.py:17: FutureWarning: `multichannel` is a deprecated argument name for `structural_similarity`. It will be removed in version 1.0.Please use `channel_axis` instead.\n"
          ]
        },
        {
          "name": "stdout",
          "output_type": "stream",
          "text": [
            "MSE:  20.86\n",
            "PSNR:  34.94\n",
            "0.9658\n",
            "MSE:  86.79\n",
            "PSNR:  28.75\n",
            "0.8575\n",
            "MSE:  120.96\n",
            "PSNR:  27.3\n",
            "0.8459\n",
            "MSE:  119.23\n",
            "PSNR:  27.37\n",
            "0.8451\n",
            "MSE:  120.46\n",
            "PSNR:  27.32\n",
            "0.8417\n",
            "MSE:  109.63\n",
            "PSNR:  27.73\n",
            "0.8558\n",
            "MSE:  117.24\n",
            "PSNR:  27.44\n",
            "0.8601\n",
            "MSE:  101.6\n",
            "PSNR:  28.06\n",
            "0.8548\n",
            "MSE:  68.16\n",
            "PSNR:  29.8\n",
            "0.8816\n",
            "MSE:  94.43\n",
            "PSNR:  28.38\n",
            "0.8594\n"
          ]
        }
      ],
      "source": [
        "#from skimage.measure import compare_mse\n",
        "import cv2\n",
        "\n",
        "from skimage.metrics import mean_squared_error\n",
        "from skimage.metrics import peak_signal_noise_ratio\n",
        "from skimage.metrics import structural_similarity\n",
        "\n",
        "\n",
        "for i in range(1, 11):\n",
        "  file_name = \"/content/\" + str(i) + \".png\"\n",
        "  file_name1 = \"/content/\" + str(i) + '.png.tfci.png'\n",
        "  img1 = cv2.imread(file_name)\n",
        "  img2 = cv2.imread(file_name1)\n",
        "\n",
        "  MSE = mean_squared_error(img1, img2)\n",
        "  PSNR = peak_signal_noise_ratio(img1, img2)\n",
        "  SSIM = structural_similarity(img1, img2, multichannel=True)\n",
        "  print('MSE: ', round(MSE, 2))\n",
        "  print('PSNR: ', round(PSNR, 2))\n",
        "  print(round(SSIM, 4))"
      ]
    },
    {
      "cell_type": "code",
      "execution_count": null,
      "metadata": {
        "colab": {
          "base_uri": "https://localhost:8080/"
        },
        "id": "p6XnKlse0BHE",
        "outputId": "5043a275-5118-46aa-b121-391c8c2e0b85"
      },
      "outputs": [
        {
          "name": "stdout",
          "output_type": "stream",
          "text": [
            "MSE:  67.5112717196427\n",
            "PSNR:  29.837040719337274\n",
            "SSIM:  0.8360193780324984\n"
          ]
        }
      ],
      "source": [
        "print('MSE: ', MSE)\n",
        "print('PSNR: ', PSNR)\n",
        "print('SSIM: ', SSIM)"
      ]
    }
  ],
  "metadata": {
    "accelerator": "GPU",
    "colab": {
      "name": "Untitled18.ipynb",
      "provenance": [],
      "mount_file_id": "1DYIWsXl7mDtjHKthazwjczJwvF9aRLNv",
      "authorship_tag": "ABX9TyPvf9436fqJPLY0NgUtbzXg",
      "include_colab_link": true
    },
    "kernelspec": {
      "display_name": "Python 3",
      "name": "python3"
    },
    "language_info": {
      "name": "python"
    }
  },
  "nbformat": 4,
  "nbformat_minor": 0
}