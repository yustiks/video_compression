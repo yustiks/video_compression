{
  "nbformat": 4,
  "nbformat_minor": 0,
  "metadata": {
    "colab": {
      "name": "Untitled18.ipynb",
      "provenance": [],
      "authorship_tag": "ABX9TyPQmUTY09Tjo7NVWMr/O1gy",
      "include_colab_link": true
    },
    "kernelspec": {
      "name": "python3",
      "display_name": "Python 3"
    },
    "language_info": {
      "name": "python"
    },
    "accelerator": "GPU"
  },
  "cells": [
    {
      "cell_type": "markdown",
      "metadata": {
        "id": "view-in-github",
        "colab_type": "text"
      },
      "source": [
        "<a href=\"https://colab.research.google.com/github/yustiks/video_compression/blob/main/tensorflow_compression.ipynb\" target=\"_parent\"><img src=\"https://colab.research.google.com/assets/colab-badge.svg\" alt=\"Open In Colab\"/></a>"
      ]
    },
    {
      "cell_type": "code",
      "execution_count": 1,
      "metadata": {
        "id": "cCc8V3l-zOHr",
        "outputId": "6485d88a-6ae8-43c8-b2b6-c82772735f40",
        "colab": {
          "base_uri": "https://localhost:8080/"
        }
      },
      "outputs": [
        {
          "output_type": "stream",
          "name": "stdout",
          "text": [
            "Collecting tensorflow-compression\n",
            "  Downloading tensorflow_compression-2.7.0-cp37-cp37m-manylinux2010_x86_64.whl (246 kB)\n",
            "\u001b[?25l\r\u001b[K     |█▎                              | 10 kB 30.7 MB/s eta 0:00:01\r\u001b[K     |██▋                             | 20 kB 23.4 MB/s eta 0:00:01\r\u001b[K     |████                            | 30 kB 18.2 MB/s eta 0:00:01\r\u001b[K     |█████▎                          | 40 kB 15.8 MB/s eta 0:00:01\r\u001b[K     |██████▋                         | 51 kB 8.4 MB/s eta 0:00:01\r\u001b[K     |████████                        | 61 kB 8.9 MB/s eta 0:00:01\r\u001b[K     |█████████▎                      | 71 kB 9.2 MB/s eta 0:00:01\r\u001b[K     |██████████▋                     | 81 kB 10.2 MB/s eta 0:00:01\r\u001b[K     |████████████                    | 92 kB 10.1 MB/s eta 0:00:01\r\u001b[K     |█████████████▎                  | 102 kB 8.1 MB/s eta 0:00:01\r\u001b[K     |██████████████▋                 | 112 kB 8.1 MB/s eta 0:00:01\r\u001b[K     |████████████████                | 122 kB 8.1 MB/s eta 0:00:01\r\u001b[K     |█████████████████▎              | 133 kB 8.1 MB/s eta 0:00:01\r\u001b[K     |██████████████████▋             | 143 kB 8.1 MB/s eta 0:00:01\r\u001b[K     |████████████████████            | 153 kB 8.1 MB/s eta 0:00:01\r\u001b[K     |█████████████████████▎          | 163 kB 8.1 MB/s eta 0:00:01\r\u001b[K     |██████████████████████▋         | 174 kB 8.1 MB/s eta 0:00:01\r\u001b[K     |████████████████████████        | 184 kB 8.1 MB/s eta 0:00:01\r\u001b[K     |█████████████████████████▎      | 194 kB 8.1 MB/s eta 0:00:01\r\u001b[K     |██████████████████████████▋     | 204 kB 8.1 MB/s eta 0:00:01\r\u001b[K     |████████████████████████████    | 215 kB 8.1 MB/s eta 0:00:01\r\u001b[K     |█████████████████████████████▎  | 225 kB 8.1 MB/s eta 0:00:01\r\u001b[K     |██████████████████████████████▋ | 235 kB 8.1 MB/s eta 0:00:01\r\u001b[K     |████████████████████████████████| 245 kB 8.1 MB/s eta 0:00:01\r\u001b[K     |████████████████████████████████| 246 kB 8.1 MB/s \n",
            "\u001b[?25hRequirement already satisfied: tensorflow~=2.7.0 in /usr/local/lib/python3.7/dist-packages (from tensorflow-compression) (2.7.0)\n",
            "Requirement already satisfied: scipy~=1.4 in /usr/local/lib/python3.7/dist-packages (from tensorflow-compression) (1.4.1)\n",
            "Requirement already satisfied: tensorflow-probability~=0.15.0 in /usr/local/lib/python3.7/dist-packages (from tensorflow-compression) (0.15.0)\n",
            "Requirement already satisfied: numpy>=1.13.3 in /usr/local/lib/python3.7/dist-packages (from scipy~=1.4->tensorflow-compression) (1.19.5)\n",
            "Requirement already satisfied: tensorflow-estimator<2.8,~=2.7.0rc0 in /usr/local/lib/python3.7/dist-packages (from tensorflow~=2.7.0->tensorflow-compression) (2.7.0)\n",
            "Requirement already satisfied: libclang>=9.0.1 in /usr/local/lib/python3.7/dist-packages (from tensorflow~=2.7.0->tensorflow-compression) (13.0.0)\n",
            "Requirement already satisfied: keras<2.8,>=2.7.0rc0 in /usr/local/lib/python3.7/dist-packages (from tensorflow~=2.7.0->tensorflow-compression) (2.7.0)\n",
            "Requirement already satisfied: six>=1.12.0 in /usr/local/lib/python3.7/dist-packages (from tensorflow~=2.7.0->tensorflow-compression) (1.15.0)\n",
            "Requirement already satisfied: tensorflow-io-gcs-filesystem>=0.21.0 in /usr/local/lib/python3.7/dist-packages (from tensorflow~=2.7.0->tensorflow-compression) (0.23.1)\n",
            "Requirement already satisfied: h5py>=2.9.0 in /usr/local/lib/python3.7/dist-packages (from tensorflow~=2.7.0->tensorflow-compression) (3.1.0)\n",
            "Requirement already satisfied: opt-einsum>=2.3.2 in /usr/local/lib/python3.7/dist-packages (from tensorflow~=2.7.0->tensorflow-compression) (3.3.0)\n",
            "Requirement already satisfied: flatbuffers<3.0,>=1.12 in /usr/local/lib/python3.7/dist-packages (from tensorflow~=2.7.0->tensorflow-compression) (2.0)\n",
            "Requirement already satisfied: wrapt>=1.11.0 in /usr/local/lib/python3.7/dist-packages (from tensorflow~=2.7.0->tensorflow-compression) (1.13.3)\n",
            "Requirement already satisfied: tensorboard~=2.6 in /usr/local/lib/python3.7/dist-packages (from tensorflow~=2.7.0->tensorflow-compression) (2.7.0)\n",
            "Requirement already satisfied: grpcio<2.0,>=1.24.3 in /usr/local/lib/python3.7/dist-packages (from tensorflow~=2.7.0->tensorflow-compression) (1.43.0)\n",
            "Requirement already satisfied: google-pasta>=0.1.1 in /usr/local/lib/python3.7/dist-packages (from tensorflow~=2.7.0->tensorflow-compression) (0.2.0)\n",
            "Requirement already satisfied: typing-extensions>=3.6.6 in /usr/local/lib/python3.7/dist-packages (from tensorflow~=2.7.0->tensorflow-compression) (3.10.0.2)\n",
            "Requirement already satisfied: absl-py>=0.4.0 in /usr/local/lib/python3.7/dist-packages (from tensorflow~=2.7.0->tensorflow-compression) (1.0.0)\n",
            "Requirement already satisfied: termcolor>=1.1.0 in /usr/local/lib/python3.7/dist-packages (from tensorflow~=2.7.0->tensorflow-compression) (1.1.0)\n",
            "Requirement already satisfied: protobuf>=3.9.2 in /usr/local/lib/python3.7/dist-packages (from tensorflow~=2.7.0->tensorflow-compression) (3.17.3)\n",
            "Requirement already satisfied: keras-preprocessing>=1.1.1 in /usr/local/lib/python3.7/dist-packages (from tensorflow~=2.7.0->tensorflow-compression) (1.1.2)\n",
            "Requirement already satisfied: gast<0.5.0,>=0.2.1 in /usr/local/lib/python3.7/dist-packages (from tensorflow~=2.7.0->tensorflow-compression) (0.4.0)\n",
            "Requirement already satisfied: wheel<1.0,>=0.32.0 in /usr/local/lib/python3.7/dist-packages (from tensorflow~=2.7.0->tensorflow-compression) (0.37.1)\n",
            "Requirement already satisfied: astunparse>=1.6.0 in /usr/local/lib/python3.7/dist-packages (from tensorflow~=2.7.0->tensorflow-compression) (1.6.3)\n",
            "Requirement already satisfied: cached-property in /usr/local/lib/python3.7/dist-packages (from h5py>=2.9.0->tensorflow~=2.7.0->tensorflow-compression) (1.5.2)\n",
            "Requirement already satisfied: requests<3,>=2.21.0 in /usr/local/lib/python3.7/dist-packages (from tensorboard~=2.6->tensorflow~=2.7.0->tensorflow-compression) (2.23.0)\n",
            "Requirement already satisfied: setuptools>=41.0.0 in /usr/local/lib/python3.7/dist-packages (from tensorboard~=2.6->tensorflow~=2.7.0->tensorflow-compression) (57.4.0)\n",
            "Requirement already satisfied: werkzeug>=0.11.15 in /usr/local/lib/python3.7/dist-packages (from tensorboard~=2.6->tensorflow~=2.7.0->tensorflow-compression) (1.0.1)\n",
            "Requirement already satisfied: google-auth-oauthlib<0.5,>=0.4.1 in /usr/local/lib/python3.7/dist-packages (from tensorboard~=2.6->tensorflow~=2.7.0->tensorflow-compression) (0.4.6)\n",
            "Requirement already satisfied: tensorboard-data-server<0.7.0,>=0.6.0 in /usr/local/lib/python3.7/dist-packages (from tensorboard~=2.6->tensorflow~=2.7.0->tensorflow-compression) (0.6.1)\n",
            "Requirement already satisfied: markdown>=2.6.8 in /usr/local/lib/python3.7/dist-packages (from tensorboard~=2.6->tensorflow~=2.7.0->tensorflow-compression) (3.3.6)\n",
            "Requirement already satisfied: google-auth<3,>=1.6.3 in /usr/local/lib/python3.7/dist-packages (from tensorboard~=2.6->tensorflow~=2.7.0->tensorflow-compression) (1.35.0)\n",
            "Requirement already satisfied: tensorboard-plugin-wit>=1.6.0 in /usr/local/lib/python3.7/dist-packages (from tensorboard~=2.6->tensorflow~=2.7.0->tensorflow-compression) (1.8.1)\n",
            "Requirement already satisfied: pyasn1-modules>=0.2.1 in /usr/local/lib/python3.7/dist-packages (from google-auth<3,>=1.6.3->tensorboard~=2.6->tensorflow~=2.7.0->tensorflow-compression) (0.2.8)\n",
            "Requirement already satisfied: rsa<5,>=3.1.4 in /usr/local/lib/python3.7/dist-packages (from google-auth<3,>=1.6.3->tensorboard~=2.6->tensorflow~=2.7.0->tensorflow-compression) (4.8)\n",
            "Requirement already satisfied: cachetools<5.0,>=2.0.0 in /usr/local/lib/python3.7/dist-packages (from google-auth<3,>=1.6.3->tensorboard~=2.6->tensorflow~=2.7.0->tensorflow-compression) (4.2.4)\n",
            "Requirement already satisfied: requests-oauthlib>=0.7.0 in /usr/local/lib/python3.7/dist-packages (from google-auth-oauthlib<0.5,>=0.4.1->tensorboard~=2.6->tensorflow~=2.7.0->tensorflow-compression) (1.3.0)\n",
            "Requirement already satisfied: importlib-metadata>=4.4 in /usr/local/lib/python3.7/dist-packages (from markdown>=2.6.8->tensorboard~=2.6->tensorflow~=2.7.0->tensorflow-compression) (4.10.1)\n",
            "Requirement already satisfied: zipp>=0.5 in /usr/local/lib/python3.7/dist-packages (from importlib-metadata>=4.4->markdown>=2.6.8->tensorboard~=2.6->tensorflow~=2.7.0->tensorflow-compression) (3.7.0)\n",
            "Requirement already satisfied: pyasn1<0.5.0,>=0.4.6 in /usr/local/lib/python3.7/dist-packages (from pyasn1-modules>=0.2.1->google-auth<3,>=1.6.3->tensorboard~=2.6->tensorflow~=2.7.0->tensorflow-compression) (0.4.8)\n",
            "Requirement already satisfied: chardet<4,>=3.0.2 in /usr/local/lib/python3.7/dist-packages (from requests<3,>=2.21.0->tensorboard~=2.6->tensorflow~=2.7.0->tensorflow-compression) (3.0.4)\n",
            "Requirement already satisfied: urllib3!=1.25.0,!=1.25.1,<1.26,>=1.21.1 in /usr/local/lib/python3.7/dist-packages (from requests<3,>=2.21.0->tensorboard~=2.6->tensorflow~=2.7.0->tensorflow-compression) (1.24.3)\n",
            "Requirement already satisfied: certifi>=2017.4.17 in /usr/local/lib/python3.7/dist-packages (from requests<3,>=2.21.0->tensorboard~=2.6->tensorflow~=2.7.0->tensorflow-compression) (2021.10.8)\n",
            "Requirement already satisfied: idna<3,>=2.5 in /usr/local/lib/python3.7/dist-packages (from requests<3,>=2.21.0->tensorboard~=2.6->tensorflow~=2.7.0->tensorflow-compression) (2.10)\n",
            "Requirement already satisfied: oauthlib>=3.0.0 in /usr/local/lib/python3.7/dist-packages (from requests-oauthlib>=0.7.0->google-auth-oauthlib<0.5,>=0.4.1->tensorboard~=2.6->tensorflow~=2.7.0->tensorflow-compression) (3.1.1)\n",
            "Requirement already satisfied: cloudpickle>=1.3 in /usr/local/lib/python3.7/dist-packages (from tensorflow-probability~=0.15.0->tensorflow-compression) (1.3.0)\n",
            "Requirement already satisfied: decorator in /usr/local/lib/python3.7/dist-packages (from tensorflow-probability~=0.15.0->tensorflow-compression) (4.4.2)\n",
            "Requirement already satisfied: dm-tree in /usr/local/lib/python3.7/dist-packages (from tensorflow-probability~=0.15.0->tensorflow-compression) (0.1.6)\n",
            "Installing collected packages: tensorflow-compression\n",
            "Successfully installed tensorflow-compression-2.7.0\n",
            "Cloning into '/tfc'...\n",
            "remote: Enumerating objects: 2345, done.\u001b[K\n",
            "remote: Counting objects: 100% (467/467), done.\u001b[K\n",
            "remote: Compressing objects: 100% (261/261), done.\u001b[K\n",
            "remote: Total 2345 (delta 295), reused 336 (delta 195), pack-reused 1878\u001b[K\n",
            "Receiving objects: 100% (2345/2345), 1.11 MiB | 15.60 MiB/s, done.\n",
            "Resolving deltas: 100% (1532/1532), done.\n",
            "/tfc/models\n"
          ]
        }
      ],
      "source": [
        "!pip install tensorflow-compression\n",
        "![[ -e /tfc ]] || git clone https://github.com/tensorflow/compression /tfc\n",
        "%cd /tfc/models\n",
        "import tfci  # Check if tfci.py is available."
      ]
    },
    {
      "cell_type": "code",
      "source": [
        "import tensorflow as tf\n",
        "\n",
        "if not tf.config.list_physical_devices('GPU'):\n",
        "  print('WARNING: No GPU found. Might be slow!')\n",
        "else:\n",
        "  print('Found GPU.')"
      ],
      "metadata": {
        "colab": {
          "base_uri": "https://localhost:8080/"
        },
        "id": "5nZPejahzVtY",
        "outputId": "e107bb0b-0f42-452d-b60b-19fb0ac0aa2e"
      },
      "execution_count": 2,
      "outputs": [
        {
          "output_type": "stream",
          "name": "stdout",
          "text": [
            "Found GPU.\n"
          ]
        }
      ]
    },
    {
      "cell_type": "code",
      "source": [
        "!python tfci.py models"
      ],
      "metadata": {
        "colab": {
          "base_uri": "https://localhost:8080/"
        },
        "id": "4lVdltRztBW0",
        "outputId": "8b6def54-4723-459f-a201-5829ba9d398f"
      },
      "execution_count": 3,
      "outputs": [
        {
          "output_type": "stream",
          "name": "stdout",
          "text": [
            "The following models are available:\n",
            "\n",
            "* Models published in:\n",
            "  F. Mentzer, G. Toderici, M. Tschannen, E. Agustsson:\n",
            "  \"High-Fidelity Generative Image Compression\"\n",
            "  Adv. in Neural Information Processing Systems 33 (NeurIPS 2020)\n",
            "\n",
            "  hific-lo\n",
            "  hific-mi\n",
            "  hific-hi\n",
            "\n",
            "  These are the GAN-based models that were used for the paper and the demo\n",
            "  website (https://hific.github.io/). The target bitrates of these models are\n",
            "  0.14 bpp for \"lo\", 0.3 bpp for \"mi\", and 0.45 bpp for \"hi\".\n",
            "\n",
            "* Models published in:\n",
            "  D. Minnen, J. Ballé, G.D. Toderici:\n",
            "  \"Joint Autoregressive and Hierarchical Priors for Learned Image Compression\"\n",
            "  Adv. in Neural Information Processing Systems 31 (NeurIPS 2018)\n",
            "\n",
            "  mbt2018-mean-mse-[1-8]\n",
            "  mbt2018-mean-msssim-[1-8]\n",
            "\n",
            "  These are hyperprior models with non zero-mean Gaussian conditionals (without\n",
            "  autoregression), optimized for MSE (mean squared error) and MS-SSIM\n",
            "  (multiscale SSIM), respectively. The number 1-8 at the end indicates the\n",
            "  quality level (1: lowest, 8: highest).\n",
            "\n",
            "  While generalizing the hyperprior models to non-zero mean distributions\n",
            "  translates into some compression gains, the gains are not as high as for a\n",
            "  combined autoregressive and hierarchical prior. However, the runtime for\n",
            "  autoregressive priors is generally quite high.\n",
            "\n",
            "* Models published in:\n",
            "  J. Ballé, D. Minnen, S. Singh, S.J. Hwang, N. Johnston:\n",
            "  \"Variational Image Compression with a Scale Hyperprior\"\n",
            "  Int. Conf. on Learning Representations (ICLR), 2018\n",
            "\n",
            "  bmshj2018-factorized-mse-[1-8]\n",
            "  bmshj2018-factorized-msssim-[1-8]\n",
            "  bmshj2018-hyperprior-mse-[1-8]\n",
            "  bmshj2018-hyperprior-msssim-[1-8]\n",
            "\n",
            "  These are the factorized prior and hyperprior models optimized for MSE (mean\n",
            "  squared error) and MS-SSIM (multiscale SSIM), respectively. The number 1-8 at\n",
            "  the end indicates the quality level (1: lowest, 8: highest).\n",
            "\n",
            "  These models demonstrate the bit rate savings achieved by a hierarchical vs.\n",
            "  a factorized prior (entropy model).\n",
            "\n",
            "* Models published in:\n",
            "  J. Ballé:\n",
            "  \"Efficient Nonlinear Transforms for Lossy Image Compression\"\n",
            "  Picture Coding Symposium (PCS), 2018\n",
            "\n",
            "  b2018-leaky_relu-128-[1-4]\n",
            "  b2018-leaky_relu-192-[1-4]\n",
            "  b2018-gdn-128-[1-4]\n",
            "  b2018-gdn-192-[1-4]\n",
            "\n",
            "  These are nonlinear transform coders with factorized priors (entropy models)\n",
            "  optimized for MSE (mean squared error), with either leaky ReLU and GDN\n",
            "  activation functions, and 128 or 192 filters per layer. The number 1-4 at\n",
            "  the end indicates the quality level (1: lowest, 4: highest).\n",
            "\n",
            "  These models demonstrate the higher representational efficiency of GDN vs.\n",
            "  scalar activation functions such as leaky ReLU.\n",
            "\n",
            "Note: all the models using hierarchical/hyperpriors published above include a\n",
            "modification from:\n",
            "J. Ballé, N. Johnston, D. Minnen:\n",
            "\"Integer Networks for Data Compression with Latent-Variable Models\"\n",
            "Int. Conf. on Learning Representations (ICLR), 2019\n",
            "\n",
            "The conditional priors are modified to use integer arithmetic, in order to\n",
            "ensure consistent results across different hardware platforms. Other than this,\n",
            "the models are reproductions of the original models used in the publication.\n",
            "Therefore, performance may differ slightly.\n",
            "\n"
          ]
        }
      ]
    },
    {
      "cell_type": "code",
      "source": [
        "!ls"
      ],
      "metadata": {
        "colab": {
          "base_uri": "https://localhost:8080/"
        },
        "id": "0MDLOzeut5tX",
        "outputId": "7e37c176-e38d-411e-c645-19e0610c3ddd"
      },
      "execution_count": 5,
      "outputs": [
        {
          "output_type": "stream",
          "name": "stdout",
          "text": [
            "bls2017.py  bmshj2018.py  hific  ms2020.py  __pycache__  tfci.py  toy_sources\n"
          ]
        }
      ]
    },
    {
      "cell_type": "code",
      "source": [
        "import os\n",
        "cwd = os.getcwd()\n",
        "cwd"
      ],
      "metadata": {
        "colab": {
          "base_uri": "https://localhost:8080/",
          "height": 37
        },
        "id": "EmWnYLjpuucl",
        "outputId": "9699bd9b-3fd4-4308-a7ea-340cf332aa57"
      },
      "execution_count": 6,
      "outputs": [
        {
          "output_type": "execute_result",
          "data": {
            "application/vnd.google.colaboratory.intrinsic+json": {
              "type": "string"
            },
            "text/plain": [
              "'/tfc/models'"
            ]
          },
          "metadata": {},
          "execution_count": 6
        }
      ]
    },
    {
      "cell_type": "code",
      "source": [
        "import math\n",
        "\n",
        "from torch import Tensor\n",
        "\n",
        "import torch.nn.functional as F\n",
        "\n",
        "\n",
        "\n",
        "def psnr(x: Tensor, x_hat: Tensor) -> float:\n",
        "    return -10 * math.log10(F.mse_loss(x, x_hat).item())\n"
      ],
      "metadata": {
        "id": "L3PSeCwLxAgk"
      },
      "execution_count": 7,
      "outputs": []
    },
    {
      "cell_type": "code",
      "source": [
        "!pip install -U pip"
      ],
      "metadata": {
        "colab": {
          "base_uri": "https://localhost:8080/"
        },
        "id": "vqOMTrnlyBbM",
        "outputId": "00579488-83b4-4609-a6d1-cee0e3db9df3"
      },
      "execution_count": 12,
      "outputs": [
        {
          "output_type": "stream",
          "name": "stdout",
          "text": [
            "Requirement already satisfied: pip in /usr/local/lib/python3.7/dist-packages (21.1.3)\n",
            "Collecting pip\n",
            "  Downloading pip-22.0.2-py3-none-any.whl (2.1 MB)\n",
            "\u001b[K     |████████████████████████████████| 2.1 MB 7.5 MB/s \n",
            "\u001b[?25hInstalling collected packages: pip\n",
            "  Attempting uninstall: pip\n",
            "    Found existing installation: pip 21.1.3\n",
            "    Uninstalling pip-21.1.3:\n",
            "      Successfully uninstalled pip-21.1.3\n",
            "Successfully installed pip-22.0.2\n"
          ]
        }
      ]
    },
    {
      "cell_type": "code",
      "source": [
        "!python -m pip install -U scikit-image"
      ],
      "metadata": {
        "colab": {
          "base_uri": "https://localhost:8080/"
        },
        "id": "xNgL1xOBxqH0",
        "outputId": "c5008770-424f-4564-f19b-c76a6d50d018"
      },
      "execution_count": 13,
      "outputs": [
        {
          "output_type": "stream",
          "name": "stdout",
          "text": [
            "Requirement already satisfied: scikit-image in /usr/local/lib/python3.7/dist-packages (0.18.3)\n",
            "Collecting scikit-image\n",
            "  Downloading scikit_image-0.19.1-cp37-cp37m-manylinux_2_12_x86_64.manylinux2010_x86_64.whl (13.3 MB)\n",
            "\u001b[2K     \u001b[90m━━━━━━━━━━━━━━━━━━━━━━━━━━━━━━━━━━━━━━━━\u001b[0m \u001b[32m13.3/13.3 MB\u001b[0m \u001b[31m64.4 MB/s\u001b[0m eta \u001b[36m0:00:00\u001b[0m\n",
            "\u001b[?25hRequirement already satisfied: numpy>=1.17.0 in /usr/local/lib/python3.7/dist-packages (from scikit-image) (1.19.5)\n",
            "Requirement already satisfied: imageio>=2.4.1 in /usr/local/lib/python3.7/dist-packages (from scikit-image) (2.4.1)\n",
            "Requirement already satisfied: tifffile>=2019.7.26 in /usr/local/lib/python3.7/dist-packages (from scikit-image) (2021.11.2)\n",
            "Requirement already satisfied: PyWavelets>=1.1.1 in /usr/local/lib/python3.7/dist-packages (from scikit-image) (1.2.0)\n",
            "Requirement already satisfied: packaging>=20.0 in /usr/local/lib/python3.7/dist-packages (from scikit-image) (21.3)\n",
            "Requirement already satisfied: scipy>=1.4.1 in /usr/local/lib/python3.7/dist-packages (from scikit-image) (1.4.1)\n",
            "Requirement already satisfied: networkx>=2.2 in /usr/local/lib/python3.7/dist-packages (from scikit-image) (2.6.3)\n",
            "Requirement already satisfied: pillow!=7.1.0,!=7.1.1,!=8.3.0,>=6.1.0 in /usr/local/lib/python3.7/dist-packages (from scikit-image) (7.1.2)\n",
            "Requirement already satisfied: pyparsing!=3.0.5,>=2.0.2 in /usr/local/lib/python3.7/dist-packages (from packaging>=20.0->scikit-image) (3.0.7)\n",
            "Installing collected packages: scikit-image\n",
            "  Attempting uninstall: scikit-image\n",
            "    Found existing installation: scikit-image 0.18.3\n",
            "    Uninstalling scikit-image-0.18.3:\n",
            "      Successfully uninstalled scikit-image-0.18.3\n",
            "\u001b[31mERROR: pip's dependency resolver does not currently take into account all the packages that are installed. This behaviour is the source of the following dependency conflicts.\n",
            "albumentations 0.1.12 requires imgaug<0.2.7,>=0.2.5, but you have imgaug 0.2.9 which is incompatible.\u001b[0m\u001b[31m\n",
            "\u001b[0mSuccessfully installed scikit-image-0.19.1\n",
            "\u001b[33mWARNING: Running pip as the 'root' user can result in broken permissions and conflicting behaviour with the system package manager. It is recommended to use a virtual environment instead: https://pip.pypa.io/warnings/venv\u001b[0m\u001b[33m\n",
            "\u001b[0m"
          ]
        }
      ]
    },
    {
      "cell_type": "code",
      "source": [
        "%cd content"
      ],
      "metadata": {
        "colab": {
          "base_uri": "https://localhost:8080/"
        },
        "id": "r-sM_jEczWzS",
        "outputId": "084a2524-0bb5-4512-c362-a4f40c7b5148"
      },
      "execution_count": null,
      "outputs": [
        {
          "output_type": "stream",
          "name": "stdout",
          "text": [
            "[Errno 2] No such file or directory: 'content'\n",
            "/tfc/models\n"
          ]
        }
      ]
    },
    {
      "cell_type": "code",
      "source": [
        "from PIL import Image\n",
        "\n",
        "for i in range(1, 11):\n",
        "  im = Image.open('/content/' + str(i) + '.jpg')\n",
        "  im.save('/content/' + str(i) + '.png')"
      ],
      "metadata": {
        "id": "GMDdgDx90y8l"
      },
      "execution_count": 15,
      "outputs": []
    },
    {
      "cell_type": "markdown",
      "source": [
        ""
      ],
      "metadata": {
        "id": "MjMmf0YP2Vg5"
      }
    },
    {
      "cell_type": "code",
      "source": [
        "!python tfci.py compress b2018-gdn-128-1 /content/1.png\n",
        "!python tfci.py decompress /content/1.png.tfci"
      ],
      "metadata": {
        "id": "ljCyg04xmHNC",
        "outputId": "c320d2a3-2fe2-45f6-feda-cd272a62413c",
        "colab": {
          "base_uri": "https://localhost:8080/"
        }
      },
      "execution_count": null,
      "outputs": [
        {
          "output_type": "stream",
          "name": "stdout",
          "text": [
            "2022-02-01 09:23:25.425141: W tensorflow/core/common_runtime/gpu/gpu_bfc_allocator.cc:39] Overriding allow_growth setting because the TF_FORCE_GPU_ALLOW_GROWTH environment variable is set. Original config value was 0.\n",
            "INFO:tensorflow:Saver not created because there are no variables in the graph to restore\n",
            "I0201 09:23:25.639840 140038245955456 saver.py:1621] Saver not created because there are no variables in the graph to restore\n",
            "INFO:tensorflow:Saver not created because there are no variables in the graph to restore\n",
            "I0201 09:23:31.705643 140333887461248 saver.py:1621] Saver not created because there are no variables in the graph to restore\n",
            "2022-02-01 09:23:32.276965: W tensorflow/core/common_runtime/gpu/gpu_bfc_allocator.cc:39] Overriding allow_growth setting because the TF_FORCE_GPU_ALLOW_GROWTH environment variable is set. Original config value was 0.\n"
          ]
        }
      ]
    },
    {
      "cell_type": "code",
      "source": [
        "!python tfci.py compress bmshj2018-factorized-msssim-1 /content/1.png\n",
        "!python tfci.py decompress /content/1.png.tfci\n",
        "!python tfci.py compress bmshj2018-factorized-msssim-1 /content/2.png\n",
        "!python tfci.py decompress /content/2.png.tfci\n",
        "!python tfci.py compress bmshj2018-factorized-msssim-1 /content/3.png\n",
        "!python tfci.py decompress /content/3.png.tfci\n",
        "!python tfci.py compress bmshj2018-factorized-msssim-1 /content/4.png\n",
        "!python tfci.py decompress /content/4.png.tfci\n",
        "!python tfci.py compress bmshj2018-factorized-msssim-1 /content/5.png\n",
        "!python tfci.py decompress /content/5.png.tfci\n",
        "!python tfci.py compress bmshj2018-factorized-msssim-1 /content/6.png\n",
        "!python tfci.py decompress /content/6.png.tfci\n",
        "!python tfci.py compress bmshj2018-factorized-msssim-1 /content/7.png\n",
        "!python tfci.py decompress /content/7.png.tfci\n",
        "!python tfci.py compress bmshj2018-factorized-msssim-1 /content/8.png\n",
        "!python tfci.py decompress /content/8.png.tfci\n",
        "!python tfci.py compress bmshj2018-factorized-msssim-1 /content/9.png\n",
        "!python tfci.py decompress /content/9.png.tfci\n",
        "!python tfci.py compress bmshj2018-factorized-msssim-1 /content/10.png\n",
        "!python tfci.py decompress /content/10.png.tfci"
      ],
      "metadata": {
        "colab": {
          "base_uri": "https://localhost:8080/"
        },
        "id": "6L80di4u2S7B",
        "outputId": "d323e376-e62e-45a7-e5d7-e3c76e976213"
      },
      "execution_count": 26,
      "outputs": [
        {
          "output_type": "stream",
          "name": "stdout",
          "text": [
            "2022-02-02 19:04:34.993180: W tensorflow/core/common_runtime/gpu/gpu_bfc_allocator.cc:39] Overriding allow_growth setting because the TF_FORCE_GPU_ALLOW_GROWTH environment variable is set. Original config value was 0.\n",
            "INFO:tensorflow:Saver not created because there are no variables in the graph to restore\n",
            "I0202 19:04:35.563355 139761398617984 saver.py:1621] Saver not created because there are no variables in the graph to restore\n",
            "INFO:tensorflow:Saver not created because there are no variables in the graph to restore\n",
            "I0202 19:04:42.246536 139867628853120 saver.py:1621] Saver not created because there are no variables in the graph to restore\n",
            "2022-02-02 19:04:42.951579: W tensorflow/core/common_runtime/gpu/gpu_bfc_allocator.cc:39] Overriding allow_growth setting because the TF_FORCE_GPU_ALLOW_GROWTH environment variable is set. Original config value was 0.\n",
            "2022-02-02 19:04:50.805292: W tensorflow/core/common_runtime/gpu/gpu_bfc_allocator.cc:39] Overriding allow_growth setting because the TF_FORCE_GPU_ALLOW_GROWTH environment variable is set. Original config value was 0.\n",
            "INFO:tensorflow:Saver not created because there are no variables in the graph to restore\n",
            "I0202 19:04:50.931641 140478283011968 saver.py:1621] Saver not created because there are no variables in the graph to restore\n",
            "INFO:tensorflow:Saver not created because there are no variables in the graph to restore\n",
            "I0202 19:04:57.709734 140002031662976 saver.py:1621] Saver not created because there are no variables in the graph to restore\n",
            "2022-02-02 19:04:58.425689: W tensorflow/core/common_runtime/gpu/gpu_bfc_allocator.cc:39] Overriding allow_growth setting because the TF_FORCE_GPU_ALLOW_GROWTH environment variable is set. Original config value was 0.\n",
            "2022-02-02 19:05:06.293103: W tensorflow/core/common_runtime/gpu/gpu_bfc_allocator.cc:39] Overriding allow_growth setting because the TF_FORCE_GPU_ALLOW_GROWTH environment variable is set. Original config value was 0.\n",
            "INFO:tensorflow:Saver not created because there are no variables in the graph to restore\n",
            "I0202 19:05:06.417233 139768568469376 saver.py:1621] Saver not created because there are no variables in the graph to restore\n",
            "INFO:tensorflow:Saver not created because there are no variables in the graph to restore\n",
            "I0202 19:05:13.181897 139870422841216 saver.py:1621] Saver not created because there are no variables in the graph to restore\n",
            "2022-02-02 19:05:13.894949: W tensorflow/core/common_runtime/gpu/gpu_bfc_allocator.cc:39] Overriding allow_growth setting because the TF_FORCE_GPU_ALLOW_GROWTH environment variable is set. Original config value was 0.\n",
            "2022-02-02 19:05:21.747437: W tensorflow/core/common_runtime/gpu/gpu_bfc_allocator.cc:39] Overriding allow_growth setting because the TF_FORCE_GPU_ALLOW_GROWTH environment variable is set. Original config value was 0.\n",
            "INFO:tensorflow:Saver not created because there are no variables in the graph to restore\n",
            "I0202 19:05:21.874275 139940794963840 saver.py:1621] Saver not created because there are no variables in the graph to restore\n",
            "INFO:tensorflow:Saver not created because there are no variables in the graph to restore\n",
            "I0202 19:05:28.637580 139721184941952 saver.py:1621] Saver not created because there are no variables in the graph to restore\n",
            "2022-02-02 19:05:29.341908: W tensorflow/core/common_runtime/gpu/gpu_bfc_allocator.cc:39] Overriding allow_growth setting because the TF_FORCE_GPU_ALLOW_GROWTH environment variable is set. Original config value was 0.\n",
            "2022-02-02 19:05:37.232990: W tensorflow/core/common_runtime/gpu/gpu_bfc_allocator.cc:39] Overriding allow_growth setting because the TF_FORCE_GPU_ALLOW_GROWTH environment variable is set. Original config value was 0.\n",
            "INFO:tensorflow:Saver not created because there are no variables in the graph to restore\n",
            "I0202 19:05:37.358486 140120088618880 saver.py:1621] Saver not created because there are no variables in the graph to restore\n",
            "INFO:tensorflow:Saver not created because there are no variables in the graph to restore\n",
            "I0202 19:05:43.984276 140616370268032 saver.py:1621] Saver not created because there are no variables in the graph to restore\n",
            "2022-02-02 19:05:44.682889: W tensorflow/core/common_runtime/gpu/gpu_bfc_allocator.cc:39] Overriding allow_growth setting because the TF_FORCE_GPU_ALLOW_GROWTH environment variable is set. Original config value was 0.\n",
            "2022-02-02 19:05:52.565579: W tensorflow/core/common_runtime/gpu/gpu_bfc_allocator.cc:39] Overriding allow_growth setting because the TF_FORCE_GPU_ALLOW_GROWTH environment variable is set. Original config value was 0.\n",
            "INFO:tensorflow:Saver not created because there are no variables in the graph to restore\n",
            "I0202 19:05:52.691584 139849758488448 saver.py:1621] Saver not created because there are no variables in the graph to restore\n",
            "INFO:tensorflow:Saver not created because there are no variables in the graph to restore\n",
            "I0202 19:05:59.338067 139670633998208 saver.py:1621] Saver not created because there are no variables in the graph to restore\n",
            "2022-02-02 19:06:00.047054: W tensorflow/core/common_runtime/gpu/gpu_bfc_allocator.cc:39] Overriding allow_growth setting because the TF_FORCE_GPU_ALLOW_GROWTH environment variable is set. Original config value was 0.\n",
            "2022-02-02 19:06:07.975870: W tensorflow/core/common_runtime/gpu/gpu_bfc_allocator.cc:39] Overriding allow_growth setting because the TF_FORCE_GPU_ALLOW_GROWTH environment variable is set. Original config value was 0.\n",
            "INFO:tensorflow:Saver not created because there are no variables in the graph to restore\n",
            "I0202 19:06:08.104383 140049574127488 saver.py:1621] Saver not created because there are no variables in the graph to restore\n",
            "INFO:tensorflow:Saver not created because there are no variables in the graph to restore\n",
            "I0202 19:06:14.750415 140577029232512 saver.py:1621] Saver not created because there are no variables in the graph to restore\n",
            "2022-02-02 19:06:15.474459: W tensorflow/core/common_runtime/gpu/gpu_bfc_allocator.cc:39] Overriding allow_growth setting because the TF_FORCE_GPU_ALLOW_GROWTH environment variable is set. Original config value was 0.\n",
            "2022-02-02 19:06:23.284923: W tensorflow/core/common_runtime/gpu/gpu_bfc_allocator.cc:39] Overriding allow_growth setting because the TF_FORCE_GPU_ALLOW_GROWTH environment variable is set. Original config value was 0.\n",
            "INFO:tensorflow:Saver not created because there are no variables in the graph to restore\n",
            "I0202 19:06:23.410956 140098660079488 saver.py:1621] Saver not created because there are no variables in the graph to restore\n",
            "INFO:tensorflow:Saver not created because there are no variables in the graph to restore\n",
            "I0202 19:06:30.090605 140677482956672 saver.py:1621] Saver not created because there are no variables in the graph to restore\n",
            "2022-02-02 19:06:30.798849: W tensorflow/core/common_runtime/gpu/gpu_bfc_allocator.cc:39] Overriding allow_growth setting because the TF_FORCE_GPU_ALLOW_GROWTH environment variable is set. Original config value was 0.\n",
            "2022-02-02 19:06:38.679755: W tensorflow/core/common_runtime/gpu/gpu_bfc_allocator.cc:39] Overriding allow_growth setting because the TF_FORCE_GPU_ALLOW_GROWTH environment variable is set. Original config value was 0.\n",
            "INFO:tensorflow:Saver not created because there are no variables in the graph to restore\n",
            "I0202 19:06:38.808642 140667331438464 saver.py:1621] Saver not created because there are no variables in the graph to restore\n",
            "INFO:tensorflow:Saver not created because there are no variables in the graph to restore\n",
            "I0202 19:06:45.556482 140529738168192 saver.py:1621] Saver not created because there are no variables in the graph to restore\n",
            "2022-02-02 19:06:46.261630: W tensorflow/core/common_runtime/gpu/gpu_bfc_allocator.cc:39] Overriding allow_growth setting because the TF_FORCE_GPU_ALLOW_GROWTH environment variable is set. Original config value was 0.\n",
            "2022-02-02 19:06:54.113461: W tensorflow/core/common_runtime/gpu/gpu_bfc_allocator.cc:39] Overriding allow_growth setting because the TF_FORCE_GPU_ALLOW_GROWTH environment variable is set. Original config value was 0.\n",
            "INFO:tensorflow:Saver not created because there are no variables in the graph to restore\n",
            "I0202 19:06:54.235921 139881374652288 saver.py:1621] Saver not created because there are no variables in the graph to restore\n",
            "INFO:tensorflow:Saver not created because there are no variables in the graph to restore\n",
            "I0202 19:07:00.885031 140349949200256 saver.py:1621] Saver not created because there are no variables in the graph to restore\n",
            "2022-02-02 19:07:01.583323: W tensorflow/core/common_runtime/gpu/gpu_bfc_allocator.cc:39] Overriding allow_growth setting because the TF_FORCE_GPU_ALLOW_GROWTH environment variable is set. Original config value was 0.\n"
          ]
        }
      ]
    },
    {
      "cell_type": "code",
      "source": [
        "#from skimage.measure import compare_mse\n",
        "import cv2\n",
        "\n",
        "from skimage.metrics import mean_squared_error\n",
        "from skimage.metrics import peak_signal_noise_ratio\n",
        "from skimage.metrics import structural_similarity\n",
        "\n",
        "\n",
        "for i in range(1, 11):\n",
        "  file_name = \"/content/\" + str(i) + \".png\"\n",
        "  file_name1 = \"/content/\" + str(i) + '.png.tfci.png'\n",
        "  img1 = cv2.imread(file_name)\n",
        "  img2 = cv2.imread(file_name1)\n",
        "\n",
        "  MSE = mean_squared_error(img1, img2)\n",
        "  PSNR = peak_signal_noise_ratio(img1, img2)\n",
        "  SSIM = structural_similarity(img1, img2, multichannel=True)\n",
        "  print('MSE: ', round(MSE, 2))\n",
        "  print('PSNR: ', round(PSNR, 2))\n",
        "  print('MSSIM: ', round(SSIM, 4))"
      ],
      "metadata": {
        "colab": {
          "base_uri": "https://localhost:8080/"
        },
        "id": "wXHcmFG0xIq4",
        "outputId": "6a466652-c9ce-4cc0-d511-4226ebc58ce0"
      },
      "execution_count": 27,
      "outputs": [
        {
          "output_type": "stream",
          "name": "stderr",
          "text": [
            "/usr/local/lib/python3.7/dist-packages/ipykernel_launcher.py:17: FutureWarning: `multichannel` is a deprecated argument name for `structural_similarity`. It will be removed in version 1.0.Please use `channel_axis` instead.\n"
          ]
        },
        {
          "output_type": "stream",
          "name": "stdout",
          "text": [
            "MSE:  157.17\n",
            "PSNR:  26.17\n",
            "MSSIM:  0.8431\n",
            "MSE:  126.17\n",
            "PSNR:  27.12\n",
            "MSSIM:  0.8648\n",
            "MSE:  172.86\n",
            "PSNR:  25.75\n",
            "MSSIM:  0.8515\n",
            "MSE:  171.69\n",
            "PSNR:  25.78\n",
            "MSSIM:  0.8496\n",
            "MSE:  181.5\n",
            "PSNR:  25.54\n",
            "MSSIM:  0.844\n",
            "MSE:  151.81\n",
            "PSNR:  26.32\n",
            "MSSIM:  0.8596\n",
            "MSE:  166.91\n",
            "PSNR:  25.91\n",
            "MSSIM:  0.8608\n",
            "MSE:  140.9\n",
            "PSNR:  26.64\n",
            "MSSIM:  0.8574\n",
            "MSE:  95.12\n",
            "PSNR:  28.35\n",
            "MSSIM:  0.8893\n",
            "MSE:  126.28\n",
            "PSNR:  27.12\n",
            "MSSIM:  0.8655\n"
          ]
        }
      ]
    },
    {
      "cell_type": "code",
      "source": [
        "import os\n",
        "for i in range(1, 11):\n",
        "  file_stats = os.stat(\"/content/\" + str(i) + \".png.tfci.png\")\n",
        "  print(f'File Size in Bytes is {file_stats.st_size}')\n",
        "  print((file_stats.st_size * 8) / (576*768))"
      ],
      "metadata": {
        "id": "HsSCTrRxkok4",
        "outputId": "7a9c8962-a0b7-4696-e3a0-d2cfa96584c8",
        "colab": {
          "base_uri": "https://localhost:8080/"
        }
      },
      "execution_count": 28,
      "outputs": [
        {
          "output_type": "stream",
          "name": "stdout",
          "text": [
            "File Size in Bytes is 411105\n",
            "7.434624565972222\n",
            "File Size in Bytes is 398389\n",
            "7.204662181712963\n",
            "File Size in Bytes is 419217\n",
            "7.581325954861111\n",
            "File Size in Bytes is 416783\n",
            "7.537308304398148\n",
            "File Size in Bytes is 403299\n",
            "7.29345703125\n",
            "File Size in Bytes is 381331\n",
            "6.896176938657407\n",
            "File Size in Bytes is 379401\n",
            "6.861273871527778\n",
            "File Size in Bytes is 435587\n",
            "7.877369068287037\n",
            "File Size in Bytes is 388844\n",
            "7.032045717592593\n",
            "File Size in Bytes is 394927\n",
            "7.142053674768518\n"
          ]
        }
      ]
    },
    {
      "cell_type": "code",
      "source": [
        "import sys\n",
        "print( os.stat('/content/2.png.tfci.png'))\n",
        "print( os.stat('/content/2.png.tfci'))\n",
        "print( os.stat('/content/2.png'))"
      ],
      "metadata": {
        "id": "k4BHqKf1lneQ",
        "outputId": "4bffbda3-5b42-4f99-89bb-ff126e4850f6",
        "colab": {
          "base_uri": "https://localhost:8080/"
        }
      },
      "execution_count": null,
      "outputs": [
        {
          "output_type": "stream",
          "name": "stdout",
          "text": [
            "os.stat_result(st_mode=33188, st_ino=3146279, st_dev=36, st_nlink=1, st_uid=0, st_gid=0, st_size=497831, st_atime=1643706805, st_mtime=1643706645, st_ctime=1643706645)\n",
            "os.stat_result(st_mode=33188, st_ino=3146278, st_dev=36, st_nlink=1, st_uid=0, st_gid=0, st_size=46934, st_atime=1643706641, st_mtime=1643706637, st_ctime=1643706637)\n",
            "os.stat_result(st_mode=33188, st_ino=3146263, st_dev=36, st_nlink=1, st_uid=0, st_gid=0, st_size=427435, st_atime=1643706635, st_mtime=1643706589, st_ctime=1643706589)\n"
          ]
        }
      ]
    },
    {
      "cell_type": "code",
      "source": [
        "for i in range(1, 11):\n",
        "  print('N_compression = ', int(os.stat('/content/' + str(i) + '.png.tfci').st_size)/int(os.stat('/content/' + str(i) + '.png').st_size))"
      ],
      "metadata": {
        "id": "5yPa6haFr7FB",
        "outputId": "3df5e40a-cb9e-4dcc-ecd7-f1cc26622ba5",
        "colab": {
          "base_uri": "https://localhost:8080/"
        }
      },
      "execution_count": 29,
      "outputs": [
        {
          "output_type": "stream",
          "name": "stdout",
          "text": [
            "N_compression =  0.009680897177979571\n",
            "N_compression =  0.00956168774199586\n",
            "N_compression =  0.009869458283407958\n",
            "N_compression =  0.010029502514137091\n",
            "N_compression =  0.009836321408572242\n",
            "N_compression =  0.010130898992643632\n",
            "N_compression =  0.010522741828863333\n",
            "N_compression =  0.008877018033627187\n",
            "N_compression =  0.010119263683203067\n",
            "N_compression =  0.00969322228492479\n"
          ]
        }
      ]
    },
    {
      "cell_type": "code",
      "source": [
        "print('MSE: ', MSE)\n",
        "print('PSNR: ', PSNR)\n",
        "print('SSIM: ', SSIM)"
      ],
      "metadata": {
        "colab": {
          "base_uri": "https://localhost:8080/"
        },
        "id": "p6XnKlse0BHE",
        "outputId": "5043a275-5118-46aa-b121-391c8c2e0b85"
      },
      "execution_count": null,
      "outputs": [
        {
          "output_type": "stream",
          "name": "stdout",
          "text": [
            "MSE:  67.5112717196427\n",
            "PSNR:  29.837040719337274\n",
            "SSIM:  0.8360193780324984\n"
          ]
        }
      ]
    }
  ]
}