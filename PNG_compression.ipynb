{
  "cells": [
    {
      "cell_type": "markdown",
      "metadata": {
        "id": "view-in-github",
        "colab_type": "text"
      },
      "source": [
        "<a href=\"https://colab.research.google.com/github/yustiks/video_compression/blob/main/PNG_compression.ipynb\" target=\"_parent\"><img src=\"https://colab.research.google.com/assets/colab-badge.svg\" alt=\"Open In Colab\"/></a>"
      ]
    },
    {
      "cell_type": "code",
      "source": [
        "from google.colab import drive\n",
        "drive.mount('/content/drive')"
      ],
      "metadata": {
        "colab": {
          "base_uri": "https://localhost:8080/"
        },
        "id": "zFBz3P7mAOBA",
        "outputId": "c7bc414d-9cce-42b2-9b60-60c2935249fd"
      },
      "id": "zFBz3P7mAOBA",
      "execution_count": 2,
      "outputs": [
        {
          "output_type": "stream",
          "name": "stdout",
          "text": [
            "Mounted at /content/drive\n"
          ]
        }
      ]
    },
    {
      "cell_type": "code",
      "source": [
        "import matplotlib.pyplot\n",
        "import numpy\n",
        "import numpy as np\n",
        "import os"
      ],
      "metadata": {
        "id": "vl4OFdZU5VTa"
      },
      "id": "vl4OFdZU5VTa",
      "execution_count": 1,
      "outputs": []
    },
    {
      "cell_type": "code",
      "source": [
        "!pip install pillow==4.1.1\n",
        "%reload_ext autoreload\n",
        "%autoreload"
      ],
      "metadata": {
        "colab": {
          "base_uri": "https://localhost:8080/",
          "height": 548
        },
        "id": "8fx2Irej5lXX",
        "outputId": "346f54d3-c52d-46d3-8720-e5530bf5d8fc"
      },
      "id": "8fx2Irej5lXX",
      "execution_count": 3,
      "outputs": [
        {
          "output_type": "stream",
          "name": "stdout",
          "text": [
            "Collecting pillow==4.1.1\n",
            "  Downloading Pillow-4.1.1.tar.gz (11.3 MB)\n",
            "\u001b[K     |████████████████████████████████| 11.3 MB 5.2 MB/s \n",
            "\u001b[?25hCollecting olefile\n",
            "  Downloading olefile-0.46.zip (112 kB)\n",
            "\u001b[K     |████████████████████████████████| 112 kB 46.8 MB/s \n",
            "\u001b[?25hBuilding wheels for collected packages: pillow, olefile\n",
            "  Building wheel for pillow (setup.py) ... \u001b[?25l\u001b[?25hdone\n",
            "  Created wheel for pillow: filename=Pillow-4.1.1-cp37-cp37m-linux_x86_64.whl size=1009769 sha256=a1abd0d06ff72fcddc3c069c1dbd9c395098c3b83bb86574d50cc9982c201863\n",
            "  Stored in directory: /root/.cache/pip/wheels/51/53/67/d76ff9fd54dd89a25efce20d2e7c9b35348db386b53deb8095\n",
            "  Building wheel for olefile (setup.py) ... \u001b[?25l\u001b[?25hdone\n",
            "  Created wheel for olefile: filename=olefile-0.46-py2.py3-none-any.whl size=35432 sha256=1bb77275bd358ae29e3bb75d25ea87e1f0ebe9d9fe1ebf3e31eaee0da503de3e\n",
            "  Stored in directory: /root/.cache/pip/wheels/84/53/e6/37d90ccb3ad1a3ca98d2b17107e9fda401a7c541ea1eb6a65a\n",
            "Successfully built pillow olefile\n",
            "Installing collected packages: olefile, pillow\n",
            "  Attempting uninstall: pillow\n",
            "    Found existing installation: Pillow 7.1.2\n",
            "    Uninstalling Pillow-7.1.2:\n",
            "      Successfully uninstalled Pillow-7.1.2\n",
            "\u001b[31mERROR: pip's dependency resolver does not currently take into account all the packages that are installed. This behaviour is the source of the following dependency conflicts.\n",
            "torchvision 0.11.1+cu111 requires pillow!=8.3.0,>=5.3.0, but you have pillow 4.1.1 which is incompatible.\n",
            "scikit-image 0.18.3 requires pillow!=7.1.0,!=7.1.1,>=4.3.0, but you have pillow 4.1.1 which is incompatible.\n",
            "bokeh 2.3.3 requires pillow>=7.1.0, but you have pillow 4.1.1 which is incompatible.\n",
            "albumentations 0.1.12 requires imgaug<0.2.7,>=0.2.5, but you have imgaug 0.2.9 which is incompatible.\u001b[0m\n",
            "Successfully installed olefile-0.46 pillow-4.1.1\n"
          ]
        },
        {
          "output_type": "display_data",
          "data": {
            "application/vnd.colab-display-data+json": {
              "pip_warning": {
                "packages": [
                  "PIL"
                ]
              }
            }
          },
          "metadata": {}
        }
      ]
    },
    {
      "cell_type": "code",
      "source": [
        "from PIL import Image\n",
        "from skimage.metrics import mean_squared_error\n",
        "from skimage.metrics import peak_signal_noise_ratio\n",
        "from skimage.metrics import structural_similarity"
      ],
      "metadata": {
        "id": "gACIqgcI5TMm"
      },
      "id": "gACIqgcI5TMm",
      "execution_count": 2,
      "outputs": []
    },
    {
      "cell_type": "markdown",
      "source": [
        "sys.getsizeof() on the other hand returns the memory size of the object, this means you are not only getting the size of the bytes, as it a full object it also has its methods, attributes, addresses... which are all considered in that size."
      ],
      "metadata": {
        "id": "nRQ8inOTjSkk"
      },
      "id": "nRQ8inOTjSkk"
    },
    {
      "cell_type": "markdown",
      "id": "322b71c8",
      "metadata": {
        "id": "322b71c8"
      },
      "source": [
        "## Evaluation"
      ]
    },
    {
      "cell_type": "code",
      "source": [
        "import numpy as np\n",
        "import matplotlib.pyplot as plt\n",
        "\n",
        "from skimage import data, img_as_float\n",
        "from skimage.metrics import structural_similarity as ssim\n",
        "from skimage.metrics import mean_squared_error\n",
        "\n",
        "\n",
        "\n",
        "\n",
        "for i in range(1, 11):\n",
        "  im = Image.open('/content/drive/MyDrive/Deelvin_docs/image_compression/data_576_768_bmp/' + str(i) + '.bmp')\n",
        "  img1 = img_as_float(im)\n",
        "  flag = True\n",
        "  for scale in np.linspace(0.8,1,51):\n",
        "    if not flag:\n",
        "      break\n",
        "    w = int(768*scale)\n",
        "    h = int(576*scale)\n",
        "    im = im.resize((w,h),Image.ANTIALIAS)\n",
        "    im.save('/content/' + str(i) + '.png', quality=95,optimize=True)\n",
        "    # drive/MyDrive/Deelvin_docs/image_compression/data_576_768_png/\n",
        "    im2 = Image.open('/content/' + str(i) + '.png')\n",
        "    im2 = im2.resize((768,576),Image.ANTIALIAS)\n",
        "    img2 = img_as_float(im2)\n",
        "    ssim_ = ssim(img1, img2, data_range=img2.max() - img2.min(), multichannel=True)\n",
        "\n",
        "    print('scale:', scale, ', for image: ', i)\n",
        "    print('SSIM: ', round(ssim_, 4))\n"
      ],
      "metadata": {
        "colab": {
          "base_uri": "https://localhost:8080/"
        },
        "id": "4mCRqWmK7KKS",
        "outputId": "49bd0dd2-23c8-463d-fe5f-3c7c6c46328a"
      },
      "id": "4mCRqWmK7KKS",
      "execution_count": 4,
      "outputs": [
        {
          "output_type": "stream",
          "name": "stdout",
          "text": [
            "scale: 0.8 , for image:  1\n",
            "SSIM:  0.9825\n",
            "scale: 0.804 , for image:  1\n",
            "SSIM:  0.9767\n",
            "scale: 0.808 , for image:  1\n",
            "SSIM:  0.9718\n",
            "scale: 0.812 , for image:  1\n",
            "SSIM:  0.9673\n",
            "scale: 0.8160000000000001 , for image:  1\n",
            "SSIM:  0.9635\n",
            "scale: 0.8200000000000001 , for image:  1\n",
            "SSIM:  0.9597\n",
            "scale: 0.8240000000000001 , for image:  1\n",
            "SSIM:  0.9562\n",
            "scale: 0.8280000000000001 , for image:  1\n",
            "SSIM:  0.9527\n",
            "scale: 0.8320000000000001 , for image:  1\n",
            "SSIM:  0.9497\n",
            "scale: 0.8360000000000001 , for image:  1\n",
            "SSIM:  0.9479\n",
            "scale: 0.8400000000000001 , for image:  1\n",
            "SSIM:  0.9447\n",
            "scale: 0.8440000000000001 , for image:  1\n",
            "SSIM:  0.942\n",
            "scale: 0.8480000000000001 , for image:  1\n",
            "SSIM:  0.9388\n",
            "scale: 0.8520000000000001 , for image:  1\n",
            "SSIM:  0.9357\n",
            "scale: 0.856 , for image:  1\n",
            "SSIM:  0.9331\n",
            "scale: 0.86 , for image:  1\n",
            "SSIM:  0.9301\n",
            "scale: 0.864 , for image:  1\n",
            "SSIM:  0.927\n",
            "scale: 0.868 , for image:  1\n",
            "SSIM:  0.9239\n",
            "scale: 0.872 , for image:  1\n",
            "SSIM:  0.9213\n",
            "scale: 0.876 , for image:  1\n",
            "SSIM:  0.9183\n",
            "scale: 0.88 , for image:  1\n",
            "SSIM:  0.9151\n",
            "scale: 0.884 , for image:  1\n",
            "SSIM:  0.9124\n",
            "scale: 0.888 , for image:  1\n",
            "SSIM:  0.9094\n",
            "scale: 0.892 , for image:  1\n",
            "SSIM:  0.9074\n",
            "scale: 0.896 , for image:  1\n",
            "SSIM:  0.9047\n",
            "scale: 0.9 , for image:  1\n",
            "SSIM:  0.9016\n",
            "scale: 0.904 , for image:  1\n",
            "SSIM:  0.8983\n",
            "scale: 0.908 , for image:  1\n",
            "SSIM:  0.8955\n",
            "scale: 0.912 , for image:  1\n",
            "SSIM:  0.8924\n",
            "scale: 0.916 , for image:  1\n",
            "SSIM:  0.889\n",
            "scale: 0.92 , for image:  1\n",
            "SSIM:  0.8856\n",
            "scale: 0.924 , for image:  1\n",
            "SSIM:  0.8827\n",
            "scale: 0.928 , for image:  1\n",
            "SSIM:  0.8794\n",
            "scale: 0.932 , for image:  1\n",
            "SSIM:  0.876\n",
            "scale: 0.936 , for image:  1\n",
            "SSIM:  0.8729\n",
            "scale: 0.9400000000000001 , for image:  1\n",
            "SSIM:  0.8694\n",
            "scale: 0.944 , for image:  1\n",
            "SSIM:  0.866\n",
            "scale: 0.948 , for image:  1\n",
            "SSIM:  0.8641\n",
            "scale: 0.952 , for image:  1\n",
            "SSIM:  0.8606\n",
            "scale: 0.956 , for image:  1\n",
            "SSIM:  0.8569\n",
            "scale: 0.96 , for image:  1\n",
            "SSIM:  0.8533\n",
            "scale: 0.964 , for image:  1\n",
            "SSIM:  0.8501\n",
            "scale: 0.968 , for image:  1\n",
            "SSIM:  0.8464\n",
            "scale: 0.972 , for image:  1\n",
            "SSIM:  0.8427\n",
            "scale: 0.976 , for image:  1\n",
            "SSIM:  0.8393\n",
            "scale: 0.98 , for image:  1\n",
            "SSIM:  0.8356\n",
            "scale: 0.984 , for image:  1\n",
            "SSIM:  0.8317\n",
            "scale: 0.988 , for image:  1\n",
            "SSIM:  0.8283\n",
            "scale: 0.992 , for image:  1\n",
            "SSIM:  0.8243\n",
            "scale: 0.996 , for image:  1\n",
            "SSIM:  0.8203\n",
            "scale: 1.0 , for image:  1\n",
            "SSIM:  0.8203\n"
          ]
        }
      ]
    },
    {
      "cell_type": "code",
      "source": [
        "dic_scale = {1: 0.716,\n",
        "             2: 0.6,\n",
        "             3: 0.6,\n",
        "             4: 0.6,\n",
        "             5: 0.712,\n",
        "             6: 0.6,\n",
        "             7: 0.6,\n",
        "             8: 0.61,\n",
        "             9: 0.6,\n",
        "             10: 0.6}"
      ],
      "metadata": {
        "id": "cXuXbyu9K1xl"
      },
      "id": "cXuXbyu9K1xl",
      "execution_count": 5,
      "outputs": []
    },
    {
      "cell_type": "code",
      "source": [
        "for i in range(1, 11):\n",
        "  im = Image.open('/content/drive/MyDrive/Deelvin_docs/image_compression/data_576_768_bmp/' + str(i) + '.bmp')\n",
        "  img1 = img_as_float(im)\n",
        "  scale = dic_scale[i]\n",
        "  w = int(768*scale)\n",
        "  h = int(576*scale)\n",
        "  im = im.resize((w,h),Image.ANTIALIAS)\n",
        "  im.save('/content/' + str(i) + '.png',quality=95,optimize=True)\n",
        "  # drive/MyDrive/Deelvin_docs/image_compression/data_576_768_png/\n",
        "  im2 = Image.open('/content/' + str(i) + '.png')\n",
        "  im2 = im2.resize((768,576),Image.ANTIALIAS)\n",
        "  img2 = img_as_float(im2)\n",
        "  ssim_ = ssim(img1, img2, data_range=img2.max() - img2.min(), multichannel=True)\n",
        "  print('SSIM: ', round(ssim_, 4))\n",
        "  PSNR = peak_signal_noise_ratio(img1, img2)\n",
        "  print('PSNR: ', round(PSNR, 2))"
      ],
      "metadata": {
        "id": "Ak30a5A3NPH6",
        "outputId": "e5ace895-68ef-4afb-9ed1-fb30e2d8d595",
        "colab": {
          "base_uri": "https://localhost:8080/"
        }
      },
      "id": "Ak30a5A3NPH6",
      "execution_count": 6,
      "outputs": [
        {
          "output_type": "stream",
          "name": "stdout",
          "text": [
            "SSIM:  0.9742\n",
            "PSNR:  33.97\n",
            "SSIM:  0.969\n",
            "PSNR:  33.82\n",
            "SSIM:  0.9641\n",
            "PSNR:  31.83\n",
            "SSIM:  0.9659\n",
            "PSNR:  31.99\n",
            "SSIM:  0.9761\n",
            "PSNR:  33.99\n",
            "SSIM:  0.9642\n",
            "PSNR:  32.4\n",
            "SSIM:  0.9672\n",
            "PSNR:  32.21\n",
            "SSIM:  0.9754\n",
            "PSNR:  34.77\n",
            "SSIM:  0.9795\n",
            "PSNR:  36.32\n",
            "SSIM:  0.9664\n",
            "PSNR:  33.34\n"
          ]
        }
      ]
    },
    {
      "cell_type": "code",
      "source": [
        "for i in range(1, 11):\n",
        "  im = Image.open('/content/drive/MyDrive/Deelvin_docs/image_compression/data_576_768_bmp/' + str(i) + '.bmp')\n",
        "  img1 = img_as_float(im)\n",
        "  scale = dic_scale[i]\n",
        "  w = int(768*scale)\n",
        "  h = int(576*scale)\n",
        "  im = im.resize((w,h),Image.ANTIALIAS)\n",
        "  #print(f'File Size in Bytes is {file_stats.st_size}')\n",
        "  print(im.size)\n",
        "  print('N_compression = ', (im.size[0]*im.size[1])/(768*576))"
      ],
      "metadata": {
        "id": "SvvIuVCiRSFi",
        "outputId": "0b2e8950-e2fc-417c-a4b0-a21c6e564099",
        "colab": {
          "base_uri": "https://localhost:8080/"
        }
      },
      "id": "SvvIuVCiRSFi",
      "execution_count": 15,
      "outputs": [
        {
          "output_type": "stream",
          "name": "stdout",
          "text": [
            "(549, 412)\n",
            "N_compression =  0.5113118489583334\n",
            "(460, 345)\n",
            "N_compression =  0.3587510850694444\n",
            "(460, 345)\n",
            "N_compression =  0.3587510850694444\n",
            "(460, 345)\n",
            "N_compression =  0.3587510850694444\n",
            "(546, 410)\n",
            "N_compression =  0.5060492621527778\n",
            "(460, 345)\n",
            "N_compression =  0.3587510850694444\n",
            "(460, 345)\n",
            "N_compression =  0.3587510850694444\n",
            "(468, 351)\n",
            "N_compression =  0.371337890625\n",
            "(460, 345)\n",
            "N_compression =  0.3587510850694444\n",
            "(460, 345)\n",
            "N_compression =  0.3587510850694444\n"
          ]
        }
      ]
    }
  ],
  "metadata": {
    "kernelspec": {
      "display_name": "Python 3 (ipykernel)",
      "language": "python",
      "name": "python3"
    },
    "language_info": {
      "codemirror_mode": {
        "name": "ipython",
        "version": 3
      },
      "file_extension": ".py",
      "mimetype": "text/x-python",
      "name": "python",
      "nbconvert_exporter": "python",
      "pygments_lexer": "ipython3",
      "version": "3.9.7"
    },
    "colab": {
      "name": "PNG_compression.ipynb",
      "provenance": [],
      "collapsed_sections": [],
      "include_colab_link": true
    },
    "accelerator": "GPU"
  },
  "nbformat": 4,
  "nbformat_minor": 5
}