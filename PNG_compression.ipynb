{
  "cells": [
    {
      "cell_type": "markdown",
      "metadata": {
        "id": "view-in-github",
        "colab_type": "text"
      },
      "source": [
        "<a href=\"https://colab.research.google.com/github/yustiks/video_compression/blob/main/PNG_compression.ipynb\" target=\"_parent\"><img src=\"https://colab.research.google.com/assets/colab-badge.svg\" alt=\"Open In Colab\"/></a>"
      ]
    },
    {
      "cell_type": "code",
      "source": [
        "import matplotlib.pyplot\n",
        "import numpy\n",
        "import numpy as np\n",
        "import os"
      ],
      "metadata": {
        "id": "vl4OFdZU5VTa"
      },
      "id": "vl4OFdZU5VTa",
      "execution_count": 6,
      "outputs": []
    },
    {
      "cell_type": "code",
      "source": [
        "from google.colab import drive\n",
        "drive.mount('/content/drive')"
      ],
      "metadata": {
        "colab": {
          "base_uri": "https://localhost:8080/"
        },
        "id": "zFBz3P7mAOBA",
        "outputId": "6f47adc0-b0e9-4e61-fd7a-5b3e1392f4d6"
      },
      "id": "zFBz3P7mAOBA",
      "execution_count": 1,
      "outputs": [
        {
          "output_type": "stream",
          "name": "stdout",
          "text": [
            "Mounted at /content/drive\n"
          ]
        }
      ]
    },
    {
      "cell_type": "code",
      "source": [
        "!pip install pillow==4.1.1\n",
        "%reload_ext autoreload\n",
        "%autoreload"
      ],
      "metadata": {
        "colab": {
          "base_uri": "https://localhost:8080/"
        },
        "id": "8fx2Irej5lXX",
        "outputId": "d91faa33-614b-4222-b831-f1a7a54592d6"
      },
      "id": "8fx2Irej5lXX",
      "execution_count": 1,
      "outputs": [
        {
          "output_type": "stream",
          "name": "stdout",
          "text": [
            "Requirement already satisfied: pillow==4.1.1 in /usr/local/lib/python3.7/dist-packages (4.1.1)\n",
            "Requirement already satisfied: olefile in /usr/local/lib/python3.7/dist-packages (from pillow==4.1.1) (0.46)\n"
          ]
        }
      ]
    },
    {
      "cell_type": "code",
      "source": [
        "from PIL import Image"
      ],
      "metadata": {
        "id": "gACIqgcI5TMm"
      },
      "id": "gACIqgcI5TMm",
      "execution_count": 2,
      "outputs": []
    },
    {
      "cell_type": "markdown",
      "source": [
        "sys.getsizeof() on the other hand returns the memory size of the object, this means you are not only getting the size of the bytes, as it a full object it also has its methods, attributes, addresses... which are all considered in that size."
      ],
      "metadata": {
        "id": "nRQ8inOTjSkk"
      },
      "id": "nRQ8inOTjSkk"
    },
    {
      "cell_type": "code",
      "source": [
        "from skimage.metrics import mean_squared_error\n",
        "from skimage.metrics import peak_signal_noise_ratio\n",
        "from skimage.metrics import structural_similarity\n"
      ],
      "metadata": {
        "id": "L4xawaug63b1"
      },
      "id": "L4xawaug63b1",
      "execution_count": 4,
      "outputs": []
    },
    {
      "cell_type": "markdown",
      "id": "322b71c8",
      "metadata": {
        "id": "322b71c8"
      },
      "source": [
        "## Evaluation"
      ]
    },
    {
      "cell_type": "code",
      "source": [
        "import numpy as np\n",
        "import matplotlib.pyplot as plt\n",
        "\n",
        "from skimage import data, img_as_float\n",
        "from skimage.metrics import structural_similarity as ssim\n",
        "from skimage.metrics import mean_squared_error\n",
        "\n",
        "\n",
        "\n",
        "\n",
        "for i in [1]:\n",
        "  im = Image.open('/content/drive/MyDrive/Deelvin_docs/image_compression/data_576_768_bmp/' + str(i) + '.bmp')\n",
        "  img1 = img_as_float(im)\n",
        "  flag = True\n",
        "  for scale in np.linspace(0.8,1,51):\n",
        "    if not flag:\n",
        "      break\n",
        "    w = int(768*scale)\n",
        "    h = int(576*scale)\n",
        "    im = im.resize((w,h),Image.ANTIALIAS)\n",
        "    im.save('/content/' + str(i) + '.png', quality=95,optimize=True)\n",
        "    # drive/MyDrive/Deelvin_docs/image_compression/data_576_768_png/\n",
        "    im2 = Image.open('/content/' + str(i) + '.png')\n",
        "    im2 = im2.resize((768,576),Image.ANTIALIAS)\n",
        "    img2 = img_as_float(im2)\n",
        "    ssim_ = ssim(img1, img2, data_range=img2.max() - img2.min(), multichannel=True)\n",
        "\n",
        "    print('scale:', scale, ', for image: ', i)\n",
        "    print('SSIM: ', round(ssim_, 4))\n"
      ],
      "metadata": {
        "colab": {
          "base_uri": "https://localhost:8080/",
          "height": 1000
        },
        "id": "4mCRqWmK7KKS",
        "outputId": "1280fc5c-5b2f-486f-8afd-47f113881b49"
      },
      "id": "4mCRqWmK7KKS",
      "execution_count": 88,
      "outputs": [
        {
          "output_type": "stream",
          "name": "stdout",
          "text": [
            "scale: 0.8 , for image:  1\n",
            "SSIM:  0.9825\n",
            "scale: 0.804 , for image:  1\n",
            "SSIM:  0.9767\n",
            "scale: 0.808 , for image:  1\n",
            "SSIM:  0.9718\n",
            "scale: 0.812 , for image:  1\n",
            "SSIM:  0.9673\n",
            "scale: 0.8160000000000001 , for image:  1\n",
            "SSIM:  0.9635\n",
            "scale: 0.8200000000000001 , for image:  1\n",
            "SSIM:  0.9597\n",
            "scale: 0.8240000000000001 , for image:  1\n",
            "SSIM:  0.9562\n",
            "scale: 0.8280000000000001 , for image:  1\n",
            "SSIM:  0.9527\n",
            "scale: 0.8320000000000001 , for image:  1\n",
            "SSIM:  0.9497\n",
            "scale: 0.8360000000000001 , for image:  1\n",
            "SSIM:  0.9479\n",
            "scale: 0.8400000000000001 , for image:  1\n",
            "SSIM:  0.9447\n",
            "scale: 0.8440000000000001 , for image:  1\n",
            "SSIM:  0.942\n",
            "scale: 0.8480000000000001 , for image:  1\n",
            "SSIM:  0.9388\n",
            "scale: 0.8520000000000001 , for image:  1\n",
            "SSIM:  0.9357\n",
            "scale: 0.856 , for image:  1\n",
            "SSIM:  0.9331\n",
            "scale: 0.86 , for image:  1\n",
            "SSIM:  0.9301\n",
            "scale: 0.864 , for image:  1\n",
            "SSIM:  0.927\n",
            "scale: 0.868 , for image:  1\n",
            "SSIM:  0.9239\n",
            "scale: 0.872 , for image:  1\n",
            "SSIM:  0.9213\n",
            "scale: 0.876 , for image:  1\n",
            "SSIM:  0.9183\n",
            "scale: 0.88 , for image:  1\n",
            "SSIM:  0.9151\n",
            "scale: 0.884 , for image:  1\n",
            "SSIM:  0.9124\n",
            "scale: 0.888 , for image:  1\n",
            "SSIM:  0.9094\n"
          ]
        },
        {
          "output_type": "error",
          "ename": "KeyboardInterrupt",
          "evalue": "ignored",
          "traceback": [
            "\u001b[0;31m---------------------------------------------------------------------------\u001b[0m",
            "\u001b[0;31mAttributeError\u001b[0m                            Traceback (most recent call last)",
            "\u001b[0;32m/usr/local/lib/python3.7/dist-packages/PIL/ImageFile.py\u001b[0m in \u001b[0;36m_save\u001b[0;34m(im, fp, tile, bufsize)\u001b[0m\n\u001b[1;32m    467\u001b[0m     \u001b[0;32mtry\u001b[0m\u001b[0;34m:\u001b[0m\u001b[0;34m\u001b[0m\u001b[0;34m\u001b[0m\u001b[0m\n\u001b[0;32m--> 468\u001b[0;31m         \u001b[0mfh\u001b[0m \u001b[0;34m=\u001b[0m \u001b[0mfp\u001b[0m\u001b[0;34m.\u001b[0m\u001b[0mfileno\u001b[0m\u001b[0;34m(\u001b[0m\u001b[0;34m)\u001b[0m\u001b[0;34m\u001b[0m\u001b[0;34m\u001b[0m\u001b[0m\n\u001b[0m\u001b[1;32m    469\u001b[0m         \u001b[0mfp\u001b[0m\u001b[0;34m.\u001b[0m\u001b[0mflush\u001b[0m\u001b[0;34m(\u001b[0m\u001b[0;34m)\u001b[0m\u001b[0;34m\u001b[0m\u001b[0;34m\u001b[0m\u001b[0m\n",
            "\u001b[0;31mAttributeError\u001b[0m: '_idat' object has no attribute 'fileno'",
            "\nDuring handling of the above exception, another exception occurred:\n",
            "\u001b[0;31mKeyboardInterrupt\u001b[0m                         Traceback (most recent call last)",
            "\u001b[0;32m<ipython-input-88-e6f0b9e9830b>\u001b[0m in \u001b[0;36m<module>\u001b[0;34m()\u001b[0m\n\u001b[1;32m     19\u001b[0m     \u001b[0mh\u001b[0m \u001b[0;34m=\u001b[0m \u001b[0mint\u001b[0m\u001b[0;34m(\u001b[0m\u001b[0;36m576\u001b[0m\u001b[0;34m*\u001b[0m\u001b[0mscale\u001b[0m\u001b[0;34m)\u001b[0m\u001b[0;34m\u001b[0m\u001b[0;34m\u001b[0m\u001b[0m\n\u001b[1;32m     20\u001b[0m     \u001b[0mim\u001b[0m \u001b[0;34m=\u001b[0m \u001b[0mim\u001b[0m\u001b[0;34m.\u001b[0m\u001b[0mresize\u001b[0m\u001b[0;34m(\u001b[0m\u001b[0;34m(\u001b[0m\u001b[0mw\u001b[0m\u001b[0;34m,\u001b[0m\u001b[0mh\u001b[0m\u001b[0;34m)\u001b[0m\u001b[0;34m,\u001b[0m\u001b[0mImage\u001b[0m\u001b[0;34m.\u001b[0m\u001b[0mANTIALIAS\u001b[0m\u001b[0;34m)\u001b[0m\u001b[0;34m\u001b[0m\u001b[0;34m\u001b[0m\u001b[0m\n\u001b[0;32m---> 21\u001b[0;31m     \u001b[0mim\u001b[0m\u001b[0;34m.\u001b[0m\u001b[0msave\u001b[0m\u001b[0;34m(\u001b[0m\u001b[0;34m'/content/'\u001b[0m \u001b[0;34m+\u001b[0m \u001b[0mstr\u001b[0m\u001b[0;34m(\u001b[0m\u001b[0mi\u001b[0m\u001b[0;34m)\u001b[0m \u001b[0;34m+\u001b[0m \u001b[0;34m'.png'\u001b[0m\u001b[0;34m,\u001b[0m \u001b[0mquality\u001b[0m\u001b[0;34m=\u001b[0m\u001b[0;36m95\u001b[0m\u001b[0;34m,\u001b[0m\u001b[0moptimize\u001b[0m\u001b[0;34m=\u001b[0m\u001b[0;32mTrue\u001b[0m\u001b[0;34m)\u001b[0m\u001b[0;34m\u001b[0m\u001b[0;34m\u001b[0m\u001b[0m\n\u001b[0m\u001b[1;32m     22\u001b[0m     \u001b[0;31m# drive/MyDrive/Deelvin_docs/image_compression/data_576_768_png/\u001b[0m\u001b[0;34m\u001b[0m\u001b[0;34m\u001b[0m\u001b[0;34m\u001b[0m\u001b[0m\n\u001b[1;32m     23\u001b[0m     \u001b[0mim2\u001b[0m \u001b[0;34m=\u001b[0m \u001b[0mImage\u001b[0m\u001b[0;34m.\u001b[0m\u001b[0mopen\u001b[0m\u001b[0;34m(\u001b[0m\u001b[0;34m'/content/'\u001b[0m \u001b[0;34m+\u001b[0m \u001b[0mstr\u001b[0m\u001b[0;34m(\u001b[0m\u001b[0mi\u001b[0m\u001b[0;34m)\u001b[0m \u001b[0;34m+\u001b[0m \u001b[0;34m'.png'\u001b[0m\u001b[0;34m)\u001b[0m\u001b[0;34m\u001b[0m\u001b[0;34m\u001b[0m\u001b[0m\n",
            "\u001b[0;32m/usr/local/lib/python3.7/dist-packages/PIL/Image.py\u001b[0m in \u001b[0;36msave\u001b[0;34m(self, fp, format, **params)\u001b[0m\n\u001b[1;32m   1824\u001b[0m \u001b[0;34m\u001b[0m\u001b[0m\n\u001b[1;32m   1825\u001b[0m         \u001b[0;32mtry\u001b[0m\u001b[0;34m:\u001b[0m\u001b[0;34m\u001b[0m\u001b[0;34m\u001b[0m\u001b[0m\n\u001b[0;32m-> 1826\u001b[0;31m             \u001b[0msave_handler\u001b[0m\u001b[0;34m(\u001b[0m\u001b[0mself\u001b[0m\u001b[0;34m,\u001b[0m \u001b[0mfp\u001b[0m\u001b[0;34m,\u001b[0m \u001b[0mfilename\u001b[0m\u001b[0;34m)\u001b[0m\u001b[0;34m\u001b[0m\u001b[0;34m\u001b[0m\u001b[0m\n\u001b[0m\u001b[1;32m   1827\u001b[0m         \u001b[0;32mfinally\u001b[0m\u001b[0;34m:\u001b[0m\u001b[0;34m\u001b[0m\u001b[0;34m\u001b[0m\u001b[0m\n\u001b[1;32m   1828\u001b[0m             \u001b[0;31m# do what we can to clean up\u001b[0m\u001b[0;34m\u001b[0m\u001b[0;34m\u001b[0m\u001b[0;34m\u001b[0m\u001b[0m\n",
            "\u001b[0;32m/usr/local/lib/python3.7/dist-packages/PIL/PngImagePlugin.py\u001b[0m in \u001b[0;36m_save\u001b[0;34m(im, fp, filename, chunk, check)\u001b[0m\n\u001b[1;32m    793\u001b[0m \u001b[0;34m\u001b[0m\u001b[0m\n\u001b[1;32m    794\u001b[0m     ImageFile._save(im, _idat(fp, chunk),\n\u001b[0;32m--> 795\u001b[0;31m                     [(\"zip\", (0, 0)+im.size, 0, rawmode)])\n\u001b[0m\u001b[1;32m    796\u001b[0m \u001b[0;34m\u001b[0m\u001b[0m\n\u001b[1;32m    797\u001b[0m     \u001b[0mchunk\u001b[0m\u001b[0;34m(\u001b[0m\u001b[0mfp\u001b[0m\u001b[0;34m,\u001b[0m \u001b[0;34mb\"IEND\"\u001b[0m\u001b[0;34m,\u001b[0m \u001b[0;34mb\"\"\u001b[0m\u001b[0;34m)\u001b[0m\u001b[0;34m\u001b[0m\u001b[0;34m\u001b[0m\u001b[0m\n",
            "\u001b[0;32m/usr/local/lib/python3.7/dist-packages/PIL/ImageFile.py\u001b[0m in \u001b[0;36m_save\u001b[0;34m(im, fp, tile, bufsize)\u001b[0m\n\u001b[1;32m    480\u001b[0m             \u001b[0;32melse\u001b[0m\u001b[0;34m:\u001b[0m\u001b[0;34m\u001b[0m\u001b[0;34m\u001b[0m\u001b[0m\n\u001b[1;32m    481\u001b[0m                 \u001b[0;32mwhile\u001b[0m \u001b[0;32mTrue\u001b[0m\u001b[0;34m:\u001b[0m\u001b[0;34m\u001b[0m\u001b[0;34m\u001b[0m\u001b[0m\n\u001b[0;32m--> 482\u001b[0;31m                     \u001b[0ml\u001b[0m\u001b[0;34m,\u001b[0m \u001b[0ms\u001b[0m\u001b[0;34m,\u001b[0m \u001b[0md\u001b[0m \u001b[0;34m=\u001b[0m \u001b[0me\u001b[0m\u001b[0;34m.\u001b[0m\u001b[0mencode\u001b[0m\u001b[0;34m(\u001b[0m\u001b[0mbufsize\u001b[0m\u001b[0;34m)\u001b[0m\u001b[0;34m\u001b[0m\u001b[0;34m\u001b[0m\u001b[0m\n\u001b[0m\u001b[1;32m    483\u001b[0m                     \u001b[0mfp\u001b[0m\u001b[0;34m.\u001b[0m\u001b[0mwrite\u001b[0m\u001b[0;34m(\u001b[0m\u001b[0md\u001b[0m\u001b[0;34m)\u001b[0m\u001b[0;34m\u001b[0m\u001b[0;34m\u001b[0m\u001b[0m\n\u001b[1;32m    484\u001b[0m                     \u001b[0;32mif\u001b[0m \u001b[0ms\u001b[0m\u001b[0;34m:\u001b[0m\u001b[0;34m\u001b[0m\u001b[0;34m\u001b[0m\u001b[0m\n",
            "\u001b[0;31mKeyboardInterrupt\u001b[0m: "
          ]
        }
      ]
    },
    {
      "cell_type": "code",
      "source": [
        "dic_scale = {1: 0.716,\n",
        "             2: 0.6,\n",
        "             3: 0.6,\n",
        "             4: 0.6,\n",
        "             5: 0.712,\n",
        "             6: 0.6,\n",
        "             7: 0.6,\n",
        "             8: 0.61,\n",
        "             9: 0.6,\n",
        "             10: 0.6}"
      ],
      "metadata": {
        "id": "cXuXbyu9K1xl"
      },
      "id": "cXuXbyu9K1xl",
      "execution_count": 96,
      "outputs": []
    },
    {
      "cell_type": "code",
      "source": [
        "for i in range(1, 11):\n",
        "  im = Image.open('/content/drive/MyDrive/Deelvin_docs/image_compression/data_576_768_bmp/' + str(i) + '.bmp')\n",
        "  img1 = img_as_float(im)\n",
        "  scale = dic_scale[i]\n",
        "  w = int(768*scale)\n",
        "  h = int(576*scale)\n",
        "  im = im.resize((w,h),Image.ANTIALIAS)\n",
        "  im.save('/content/' + str(i) + '.png',quality=95,optimize=True)\n",
        "  # drive/MyDrive/Deelvin_docs/image_compression/data_576_768_png/\n",
        "  im2 = Image.open('/content/' + str(i) + '.png')\n",
        "  im2 = im2.resize((768,576),Image.ANTIALIAS)\n",
        "  img2 = img_as_float(im2)\n",
        "  ssim_ = ssim(img1, img2, data_range=img2.max() - img2.min(), multichannel=True)\n",
        "  print('SSIM: ', round(ssim_, 4))\n",
        "  PSNR = peak_signal_noise_ratio(img1, img2)\n",
        "  print('PSNR: ', round(PSNR, 2))"
      ],
      "metadata": {
        "id": "Ak30a5A3NPH6",
        "outputId": "b471aed2-9fd2-428c-e880-417108c89c32",
        "colab": {
          "base_uri": "https://localhost:8080/"
        }
      },
      "id": "Ak30a5A3NPH6",
      "execution_count": 108,
      "outputs": [
        {
          "output_type": "stream",
          "name": "stdout",
          "text": [
            "SSIM:  0.9742\n",
            "PSNR:  33.97\n",
            "SSIM:  0.969\n",
            "PSNR:  33.82\n",
            "SSIM:  0.9641\n",
            "PSNR:  31.83\n",
            "SSIM:  0.9659\n",
            "PSNR:  31.99\n",
            "SSIM:  0.9761\n",
            "PSNR:  33.99\n",
            "SSIM:  0.9642\n",
            "PSNR:  32.4\n",
            "SSIM:  0.9672\n",
            "PSNR:  32.21\n",
            "SSIM:  0.9754\n",
            "PSNR:  34.77\n",
            "SSIM:  0.9795\n",
            "PSNR:  36.32\n",
            "SSIM:  0.9664\n",
            "PSNR:  33.34\n"
          ]
        }
      ]
    },
    {
      "cell_type": "code",
      "source": [
        "for i in range(1, 11):\n",
        "  file_stats = os.stat(\"/content/\" + str(i) + \".png\")\n",
        "  #print(f'File Size in Bytes is {file_stats.st_size}')\n",
        "  print('N_compression = ', int(file_stats.st_size*8)/1327104)"
      ],
      "metadata": {
        "id": "SvvIuVCiRSFi",
        "outputId": "00a44b35-9554-4798-da1c-99999c1c758e",
        "colab": {
          "base_uri": "https://localhost:8080/"
        }
      },
      "id": "SvvIuVCiRSFi",
      "execution_count": 106,
      "outputs": [
        {
          "output_type": "stream",
          "name": "stdout",
          "text": [
            "N_compression =  1.6763539255401234\n",
            "N_compression =  1.2062777295524691\n",
            "N_compression =  1.2373046875\n",
            "N_compression =  1.2410722897376543\n",
            "N_compression =  1.6272605613425926\n",
            "N_compression =  1.1199725115740742\n",
            "N_compression =  1.0882764274691359\n",
            "N_compression =  1.3185221354166667\n",
            "N_compression =  1.0949134355709877\n",
            "N_compression =  1.1429217303240742\n"
          ]
        }
      ]
    }
  ],
  "metadata": {
    "kernelspec": {
      "display_name": "Python 3 (ipykernel)",
      "language": "python",
      "name": "python3"
    },
    "language_info": {
      "codemirror_mode": {
        "name": "ipython",
        "version": 3
      },
      "file_extension": ".py",
      "mimetype": "text/x-python",
      "name": "python",
      "nbconvert_exporter": "python",
      "pygments_lexer": "ipython3",
      "version": "3.9.7"
    },
    "colab": {
      "name": "PNG_compression.ipynb",
      "provenance": [],
      "collapsed_sections": [],
      "include_colab_link": true
    },
    "accelerator": "GPU"
  },
  "nbformat": 4,
  "nbformat_minor": 5
}